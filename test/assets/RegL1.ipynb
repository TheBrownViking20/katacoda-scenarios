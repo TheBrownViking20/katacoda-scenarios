{
 "cells": [
  {
   "cell_type": "markdown",
   "metadata": {},
   "source": [
    "# Linear Regression with Python\n",
    "\n",
    "## Regularization in regression using Python\n",
    "\n",
    "### What is linear regression?\n",
    "Linear Regression attempts to find a relationship between a dependent variable and one or more explantory (or independent) variables. In case of simple linear regression where there is only one explanatory variable, linear regression is described as a general equation as shown below.\n",
    "\n",
    "\\begin{align}\n",
    "y = b_0 + b_1x + \\epsilon\n",
    "\\end{align}\n",
    "\n",
    "where y is the dependent variable, x is the explanatory variable with coefficient b<sub>1</sub>, and b<sub>0</sub> is the intercept with the error term $\\epsilon$.\n",
    "\n",
    "For **multiple linear regression**, we have two or more explanatory variables so the equation. It is described as a general equation as shown below. \n",
    "\n",
    "\\begin{align}\n",
    "y = b_0 + b_1x_1 + ... + b_px_p + \\epsilon \n",
    "\\end{align}\n",
    "\n",
    "where y is the dependent variable, x<sub>1</sub>...x<sub>p</sub> are the explanatory variables with regression coefficients b<sub>1</sub>...b<sub>p</sub>, and b<sub>0</sub> is the intercept with the error term $\\epsilon$.\n",
    "\n",
    "### What is regularization?\n",
    "Regularization is a kind of regression that shrinks the coefficient estimates towards zero. This techniques discourages formation of a complex model, so as to avoid risk of overfitting.\n",
    "\n",
    "#### Underfitting and Overfitting\n",
    "* Underfitting occurs when a model is not able to capture the underlying trend of the data.\n",
    "* Overfitting occurs when a model follows the trend of training data very closely but is not able to replicate the same performance on testing data.\n",
    "\n",
    "A good fit model generalizes well and neither underfits nor overfits."
   ]
  },
  {
   "cell_type": "code",
   "execution_count": 1,
   "metadata": {},
   "outputs": [],
   "source": [
    "# Import Libraries\n",
    "import numpy as np\n",
    "np.seterr(divide='ignore', invalid='ignore')\n",
    "import pandas as pd\n",
    "import matplotlib.pyplot as plt\n",
    "from scipy.stats import probplot\n",
    "import seaborn as sns\n",
    "\n",
    "from sklearn.model_selection import train_test_split, cross_val_score\n",
    "from sklearn.linear_model import LinearRegression, Lasso\n",
    "from sklearn.metrics import r2_score, mean_squared_error\n",
    "from sklearn.feature_selection import mutual_info_regression, f_regression, RFE, SelectKBest\n",
    "from sklearn.preprocessing import PolynomialFeatures"
   ]
  },
  {
   "cell_type": "markdown",
   "metadata": {},
   "source": [
    "### About the dataset\n",
    "This is a simulated dataset made for teaching regression containing 10 independent variables named **Feat01, Feat02..., Feat10** and a dependent variable called **Target**. \n",
    "\n",
    "### The task\n",
    "The task at hand is to predict the **Target** variable such that the values of predictions are as close to the actual values as possible. This will be done using a multiple linear regression model."
   ]
  },
  {
   "cell_type": "code",
   "execution_count": 2,
   "metadata": {},
   "outputs": [
    {
     "data": {
      "text/html": [
       "<div>\n",
       "<style scoped>\n",
       "    .dataframe tbody tr th:only-of-type {\n",
       "        vertical-align: middle;\n",
       "    }\n",
       "\n",
       "    .dataframe tbody tr th {\n",
       "        vertical-align: top;\n",
       "    }\n",
       "\n",
       "    .dataframe thead th {\n",
       "        text-align: right;\n",
       "    }\n",
       "</style>\n",
       "<table border=\"1\" class=\"dataframe\">\n",
       "  <thead>\n",
       "    <tr style=\"text-align: right;\">\n",
       "      <th></th>\n",
       "      <th>Feat01</th>\n",
       "      <th>Feat02</th>\n",
       "      <th>Feat03</th>\n",
       "      <th>Feat04</th>\n",
       "      <th>Feat05</th>\n",
       "      <th>Feat06</th>\n",
       "      <th>Feat07</th>\n",
       "      <th>Feat08</th>\n",
       "      <th>Feat09</th>\n",
       "      <th>Feat10</th>\n",
       "      <th>Target</th>\n",
       "    </tr>\n",
       "  </thead>\n",
       "  <tbody>\n",
       "    <tr>\n",
       "      <th>0</th>\n",
       "      <td>0</td>\n",
       "      <td>11617.463</td>\n",
       "      <td>135.935905</td>\n",
       "      <td>10960</td>\n",
       "      <td>491.597396</td>\n",
       "      <td>80.714963</td>\n",
       "      <td>0.675678</td>\n",
       "      <td>16.891946</td>\n",
       "      <td>0.506758</td>\n",
       "      <td>1.198996</td>\n",
       "      <td>137</td>\n",
       "    </tr>\n",
       "    <tr>\n",
       "      <th>1</th>\n",
       "      <td>0</td>\n",
       "      <td>1086607.005</td>\n",
       "      <td>1983.900611</td>\n",
       "      <td>13065</td>\n",
       "      <td>1391.028397</td>\n",
       "      <td>64.221576</td>\n",
       "      <td>0.880523</td>\n",
       "      <td>0.146754</td>\n",
       "      <td>0.146754</td>\n",
       "      <td>1.230974</td>\n",
       "      <td>335</td>\n",
       "    </tr>\n",
       "    <tr>\n",
       "      <th>2</th>\n",
       "      <td>0</td>\n",
       "      <td>37945.952</td>\n",
       "      <td>2726.252884</td>\n",
       "      <td>8772</td>\n",
       "      <td>222.952910</td>\n",
       "      <td>37.589307</td>\n",
       "      <td>0.325336</td>\n",
       "      <td>16.266790</td>\n",
       "      <td>0.488004</td>\n",
       "      <td>1.208015</td>\n",
       "      <td>172</td>\n",
       "    </tr>\n",
       "    <tr>\n",
       "      <th>3</th>\n",
       "      <td>0</td>\n",
       "      <td>79471.821</td>\n",
       "      <td>3448.065646</td>\n",
       "      <td>36414</td>\n",
       "      <td>883.345912</td>\n",
       "      <td>662.170505</td>\n",
       "      <td>0.257565</td>\n",
       "      <td>0.000000</td>\n",
       "      <td>0.128782</td>\n",
       "      <td>1.256901</td>\n",
       "      <td>867</td>\n",
       "    </tr>\n",
       "    <tr>\n",
       "      <th>4</th>\n",
       "      <td>1</td>\n",
       "      <td>5486.580</td>\n",
       "      <td>1509.753541</td>\n",
       "      <td>13040</td>\n",
       "      <td>742.253326</td>\n",
       "      <td>99.315014</td>\n",
       "      <td>0.129816</td>\n",
       "      <td>0.000000</td>\n",
       "      <td>0.129816</td>\n",
       "      <td>1.255410</td>\n",
       "      <td>815</td>\n",
       "    </tr>\n",
       "  </tbody>\n",
       "</table>\n",
       "</div>"
      ],
      "text/plain": [
       "   Feat01       Feat02       Feat03  Feat04       Feat05      Feat06  \\\n",
       "0       0    11617.463   135.935905   10960   491.597396   80.714963   \n",
       "1       0  1086607.005  1983.900611   13065  1391.028397   64.221576   \n",
       "2       0    37945.952  2726.252884    8772   222.952910   37.589307   \n",
       "3       0    79471.821  3448.065646   36414   883.345912  662.170505   \n",
       "4       1     5486.580  1509.753541   13040   742.253326   99.315014   \n",
       "\n",
       "     Feat07     Feat08    Feat09    Feat10  Target  \n",
       "0  0.675678  16.891946  0.506758  1.198996     137  \n",
       "1  0.880523   0.146754  0.146754  1.230974     335  \n",
       "2  0.325336  16.266790  0.488004  1.208015     172  \n",
       "3  0.257565   0.000000  0.128782  1.256901     867  \n",
       "4  0.129816   0.000000  0.129816  1.255410     815  "
      ]
     },
     "execution_count": 2,
     "metadata": {},
     "output_type": "execute_result"
    }
   ],
   "source": [
    "# Loading data\n",
    "data = pd.read_csv(\"data.csv\")\n",
    "data.head()"
   ]
  },
  {
   "cell_type": "code",
   "execution_count": 3,
   "metadata": {},
   "outputs": [],
   "source": [
    "X = data.drop([\"Target\"],axis=1) # Explanatory(independent) variables\n",
    "y = data[\"Target\"] # Dependent variable"
   ]
  },
  {
   "cell_type": "markdown",
   "metadata": {},
   "source": [
    "### Train/test split\n",
    "Data is divided into training and test set. Training set is used to train the linear model and test set is used evaluate the trained model. Here, we are using 70% data in the training set, leaving 30% data for the test set. The train-test set ratio is determined keeping in mind the size of data. Larger test sets (around 20-30% data) provide more reliable evaluation results but at the same time training set should be enough so that underfitting does not occur."
   ]
  },
  {
   "cell_type": "code",
   "execution_count": 4,
   "metadata": {},
   "outputs": [],
   "source": [
    "# A 70/30 train/test split\n",
    "X_train, X_test, y_train, y_test = train_test_split(X, y,\n",
    "                                                    test_size=0.3,\n",
    "                                                    random_state=100,\n",
    "                                                    shuffle=True)"
   ]
  },
  {
   "cell_type": "markdown",
   "metadata": {},
   "source": [
    "### Training a linear regression model\n",
    "We will train a linear regression model using all ten available features. The `fit` method of the `LinearRegression()` class trains models and estimates the best possible intercept and coefficient(s). "
   ]
  },
  {
   "cell_type": "code",
   "execution_count": 5,
   "metadata": {},
   "outputs": [
    {
     "data": {
      "text/plain": [
       "LinearRegression(copy_X=True, fit_intercept=True, n_jobs=None, normalize=False)"
      ]
     },
     "execution_count": 5,
     "metadata": {},
     "output_type": "execute_result"
    }
   ],
   "source": [
    "# Fitting a linear model for multiple linear regression\n",
    "model = LinearRegression()\n",
    "model.fit(X_train,y_train)"
   ]
  },
  {
   "cell_type": "code",
   "execution_count": 6,
   "metadata": {},
   "outputs": [
    {
     "data": {
      "text/html": [
       "<div>\n",
       "<style scoped>\n",
       "    .dataframe tbody tr th:only-of-type {\n",
       "        vertical-align: middle;\n",
       "    }\n",
       "\n",
       "    .dataframe tbody tr th {\n",
       "        vertical-align: top;\n",
       "    }\n",
       "\n",
       "    .dataframe thead th {\n",
       "        text-align: right;\n",
       "    }\n",
       "</style>\n",
       "<table border=\"1\" class=\"dataframe\">\n",
       "  <thead>\n",
       "    <tr style=\"text-align: right;\">\n",
       "      <th></th>\n",
       "      <th>Feature/Column</th>\n",
       "      <th>Coef_linear</th>\n",
       "    </tr>\n",
       "  </thead>\n",
       "  <tbody>\n",
       "    <tr>\n",
       "      <th>0</th>\n",
       "      <td>Feat01</td>\n",
       "      <td>2.319425</td>\n",
       "    </tr>\n",
       "    <tr>\n",
       "      <th>1</th>\n",
       "      <td>Feat02</td>\n",
       "      <td>0.000010</td>\n",
       "    </tr>\n",
       "    <tr>\n",
       "      <th>2</th>\n",
       "      <td>Feat03</td>\n",
       "      <td>0.006078</td>\n",
       "    </tr>\n",
       "    <tr>\n",
       "      <th>3</th>\n",
       "      <td>Feat04</td>\n",
       "      <td>0.001139</td>\n",
       "    </tr>\n",
       "    <tr>\n",
       "      <th>4</th>\n",
       "      <td>Feat05</td>\n",
       "      <td>0.013329</td>\n",
       "    </tr>\n",
       "    <tr>\n",
       "      <th>5</th>\n",
       "      <td>Feat06</td>\n",
       "      <td>0.111174</td>\n",
       "    </tr>\n",
       "    <tr>\n",
       "      <th>6</th>\n",
       "      <td>Feat07</td>\n",
       "      <td>0.511887</td>\n",
       "    </tr>\n",
       "    <tr>\n",
       "      <th>7</th>\n",
       "      <td>Feat08</td>\n",
       "      <td>-0.123155</td>\n",
       "    </tr>\n",
       "    <tr>\n",
       "      <th>8</th>\n",
       "      <td>Feat09</td>\n",
       "      <td>-16.116907</td>\n",
       "    </tr>\n",
       "    <tr>\n",
       "      <th>9</th>\n",
       "      <td>Feat10</td>\n",
       "      <td>11177.060571</td>\n",
       "    </tr>\n",
       "  </tbody>\n",
       "</table>\n",
       "</div>"
      ],
      "text/plain": [
       "  Feature/Column   Coef_linear\n",
       "0         Feat01      2.319425\n",
       "1         Feat02      0.000010\n",
       "2         Feat03      0.006078\n",
       "3         Feat04      0.001139\n",
       "4         Feat05      0.013329\n",
       "5         Feat06      0.111174\n",
       "6         Feat07      0.511887\n",
       "7         Feat08     -0.123155\n",
       "8         Feat09    -16.116907\n",
       "9         Feat10  11177.060571"
      ]
     },
     "execution_count": 6,
     "metadata": {},
     "output_type": "execute_result"
    }
   ],
   "source": [
    "# The coefficients for each columns\n",
    "model_coefs = pd.DataFrame({'Feature/Column':list(X_train.columns),\"Coef_linear\":model.coef_})\n",
    "model_coefs"
   ]
  },
  {
   "cell_type": "code",
   "execution_count": 7,
   "metadata": {},
   "outputs": [
    {
     "data": {
      "text/plain": [
       "-13397.877366112254"
      ]
     },
     "execution_count": 7,
     "metadata": {},
     "output_type": "execute_result"
    }
   ],
   "source": [
    "# The model's intercept\n",
    "model.intercept_"
   ]
  },
  {
   "cell_type": "markdown",
   "metadata": {},
   "source": [
    "### Taking predictions\n",
    "We can use `predict` method to take predictions of the test set."
   ]
  },
  {
   "cell_type": "code",
   "execution_count": 8,
   "metadata": {},
   "outputs": [],
   "source": [
    "# Taking predictions\n",
    "y_pred = model.predict(X_test)"
   ]
  },
  {
   "cell_type": "markdown",
   "metadata": {},
   "source": [
    "### Model Evaluation\n",
    "We will be evaluating the model now. We will start by using the metrics R-squared score and RMSE."
   ]
  },
  {
   "cell_type": "code",
   "execution_count": 9,
   "metadata": {},
   "outputs": [
    {
     "name": "stdout",
     "output_type": "stream",
     "text": [
      "The R-squared score is 0.8978\n",
      "The Root Mean Squared error is 82.8497\n"
     ]
    }
   ],
   "source": [
    "print(\"The R-squared score is {:.4f}\".format(r2_score(y_test,y_pred)))\n",
    "print(\"The Root Mean Squared error is {:.4f}\".format(np.sqrt(mean_squared_error(y_test,y_pred))))"
   ]
  },
  {
   "cell_type": "code",
   "execution_count": 10,
   "metadata": {
    "scrolled": true
   },
   "outputs": [
    {
     "name": "stdout",
     "output_type": "stream",
     "text": [
      "The 3-fold CV R^2 scores are [0.89411875 0.89787452 0.89275597] \n",
      "with a mean R^2 score of 0.8949\n",
      "The 3-fold CV RMSE scores are [85.04847542209288, 83.56004204324616, 84.72165770028043] \n",
      "with a mean RMSE of 84.4434\n"
     ]
    }
   ],
   "source": [
    "r2_cross_val = cross_val_score(LinearRegression(),X,y,cv=3,scoring=\"r2\")\n",
    "print(\"The 3-fold CV R^2 scores are {} \\nwith a mean R^2 score of {:.4f}\".format(r2_cross_val,np.mean(r2_cross_val)))\n",
    "rmse_cross_val = cross_val_score(LinearRegression(),X,y,cv=3,scoring=\"neg_root_mean_squared_error\")\n",
    "print(\"The 3-fold CV RMSE scores are {} \\nwith a mean RMSE of {:.4f}\".format([-i for i in rmse_cross_val],-np.mean(rmse_cross_val)))"
   ]
  },
  {
   "cell_type": "markdown",
   "metadata": {},
   "source": [
    "### Lasso Regression\n",
    "Lasso regression or L1 regularization not only brings values of coefficients near zero but to exact zero in case of weak regressors. So, it not only shrinks coefficient estimates towards zero but also helps in feature selection. \n",
    "\n",
    "Penalty is described by $\\lambda$ parameter. More the value of $\\lambda$, lesser the flexibility. For low values of $\\lambda$, the coefficients are very similar to that of a multiple linear regression model. As $\\lambda$ increases, the differences between the results of Lasso model and linear regression model increase. \n",
    "\n",
    "Below is a demonstration where we use increasing values of $\\lambda$ iteratively to show the effect of Lasso Regression."
   ]
  },
  {
   "cell_type": "code",
   "execution_count": 11,
   "metadata": {},
   "outputs": [
    {
     "name": "stdout",
     "output_type": "stream",
     "text": [
      "At alpha = 0.0001\n",
      "The R-squared score is 0.8978\n",
      "The Root Mean Squared error is 82.8498\n",
      "__________\n",
      "At alpha = 0.001\n",
      "The R-squared score is 0.8978\n",
      "The Root Mean Squared error is 82.8506\n",
      "__________\n",
      "At alpha = 0.01\n",
      "The R-squared score is 0.8977\n",
      "The Root Mean Squared error is 82.8622\n",
      "__________\n",
      "At alpha = 0.1\n",
      "The R-squared score is 0.8965\n",
      "The Root Mean Squared error is 83.3508\n",
      "__________\n",
      "At alpha = 1\n",
      "The R-squared score is 0.7957\n",
      "The Root Mean Squared error is 117.1226\n",
      "__________\n"
     ]
    }
   ],
   "source": [
    "alpha_values = [0.0001,0.001,0.01,0.1,1]\n",
    "for i in alpha_values:\n",
    "    lasso = Lasso(alpha=i) # Lasso regression with penalty i\n",
    "    lasso.fit(X_train,y_train) \n",
    "    model_coefs[\"Coef_lasso_alpha{}\".format(i)] = lasso.coef_\n",
    "    y_pred_new = lasso.predict(X_test)\n",
    "    print(\"At alpha = {}\".format(i))\n",
    "    print(\"The R-squared score is {:.4f}\".format(r2_score(y_test,y_pred_new)))\n",
    "    print(\"The Root Mean Squared error is {:.4f}\".format(np.sqrt(mean_squared_error(y_test,y_pred_new))))\n",
    "    print(\"__________\")"
   ]
  },
  {
   "cell_type": "code",
   "execution_count": 12,
   "metadata": {
    "scrolled": true
   },
   "outputs": [
    {
     "data": {
      "text/html": [
       "<div>\n",
       "<style scoped>\n",
       "    .dataframe tbody tr th:only-of-type {\n",
       "        vertical-align: middle;\n",
       "    }\n",
       "\n",
       "    .dataframe tbody tr th {\n",
       "        vertical-align: top;\n",
       "    }\n",
       "\n",
       "    .dataframe thead th {\n",
       "        text-align: right;\n",
       "    }\n",
       "</style>\n",
       "<table border=\"1\" class=\"dataframe\">\n",
       "  <thead>\n",
       "    <tr style=\"text-align: right;\">\n",
       "      <th></th>\n",
       "      <th>Coef_linear</th>\n",
       "      <th>Coef_lasso_alpha0.0001</th>\n",
       "      <th>Coef_lasso_alpha0.001</th>\n",
       "      <th>Coef_lasso_alpha0.01</th>\n",
       "      <th>Coef_lasso_alpha0.1</th>\n",
       "      <th>Coef_lasso_alpha1</th>\n",
       "    </tr>\n",
       "    <tr>\n",
       "      <th>Feature/Column</th>\n",
       "      <th></th>\n",
       "      <th></th>\n",
       "      <th></th>\n",
       "      <th></th>\n",
       "      <th></th>\n",
       "      <th></th>\n",
       "    </tr>\n",
       "  </thead>\n",
       "  <tbody>\n",
       "    <tr>\n",
       "      <th>Feat01</th>\n",
       "      <td>2.319425</td>\n",
       "      <td>2.319160</td>\n",
       "      <td>2.316781</td>\n",
       "      <td>2.292832</td>\n",
       "      <td>2.044682</td>\n",
       "      <td>0.000000</td>\n",
       "    </tr>\n",
       "    <tr>\n",
       "      <th>Feat02</th>\n",
       "      <td>0.000010</td>\n",
       "      <td>0.000010</td>\n",
       "      <td>0.000010</td>\n",
       "      <td>0.000010</td>\n",
       "      <td>0.000011</td>\n",
       "      <td>0.000025</td>\n",
       "    </tr>\n",
       "    <tr>\n",
       "      <th>Feat03</th>\n",
       "      <td>0.006078</td>\n",
       "      <td>0.006079</td>\n",
       "      <td>0.006088</td>\n",
       "      <td>0.006183</td>\n",
       "      <td>0.007132</td>\n",
       "      <td>0.016623</td>\n",
       "    </tr>\n",
       "    <tr>\n",
       "      <th>Feat04</th>\n",
       "      <td>0.001139</td>\n",
       "      <td>0.001139</td>\n",
       "      <td>0.001141</td>\n",
       "      <td>0.001158</td>\n",
       "      <td>0.001325</td>\n",
       "      <td>0.002999</td>\n",
       "    </tr>\n",
       "    <tr>\n",
       "      <th>Feat05</th>\n",
       "      <td>0.013329</td>\n",
       "      <td>0.013332</td>\n",
       "      <td>0.013359</td>\n",
       "      <td>0.013636</td>\n",
       "      <td>0.016409</td>\n",
       "      <td>0.044135</td>\n",
       "    </tr>\n",
       "    <tr>\n",
       "      <th>Feat06</th>\n",
       "      <td>0.111174</td>\n",
       "      <td>0.111191</td>\n",
       "      <td>0.111351</td>\n",
       "      <td>0.112949</td>\n",
       "      <td>0.128999</td>\n",
       "      <td>0.289422</td>\n",
       "    </tr>\n",
       "    <tr>\n",
       "      <th>Feat07</th>\n",
       "      <td>0.511887</td>\n",
       "      <td>0.506205</td>\n",
       "      <td>0.455064</td>\n",
       "      <td>0.000000</td>\n",
       "      <td>1.380502</td>\n",
       "      <td>18.417558</td>\n",
       "    </tr>\n",
       "    <tr>\n",
       "      <th>Feat08</th>\n",
       "      <td>0.123155</td>\n",
       "      <td>0.123208</td>\n",
       "      <td>0.123680</td>\n",
       "      <td>0.128410</td>\n",
       "      <td>0.176221</td>\n",
       "      <td>0.653633</td>\n",
       "    </tr>\n",
       "    <tr>\n",
       "      <th>Feat09</th>\n",
       "      <td>16.116907</td>\n",
       "      <td>16.118872</td>\n",
       "      <td>16.136550</td>\n",
       "      <td>16.313820</td>\n",
       "      <td>18.113637</td>\n",
       "      <td>36.061111</td>\n",
       "    </tr>\n",
       "    <tr>\n",
       "      <th>Feat10</th>\n",
       "      <td>11177.060571</td>\n",
       "      <td>11176.374712</td>\n",
       "      <td>11170.201982</td>\n",
       "      <td>11108.586938</td>\n",
       "      <td>10498.753481</td>\n",
       "      <td>4393.871080</td>\n",
       "    </tr>\n",
       "  </tbody>\n",
       "</table>\n",
       "</div>"
      ],
      "text/plain": [
       "                 Coef_linear  Coef_lasso_alpha0.0001  Coef_lasso_alpha0.001  \\\n",
       "Feature/Column                                                                \n",
       "Feat01              2.319425                2.319160               2.316781   \n",
       "Feat02              0.000010                0.000010               0.000010   \n",
       "Feat03              0.006078                0.006079               0.006088   \n",
       "Feat04              0.001139                0.001139               0.001141   \n",
       "Feat05              0.013329                0.013332               0.013359   \n",
       "Feat06              0.111174                0.111191               0.111351   \n",
       "Feat07              0.511887                0.506205               0.455064   \n",
       "Feat08              0.123155                0.123208               0.123680   \n",
       "Feat09             16.116907               16.118872              16.136550   \n",
       "Feat10          11177.060571            11176.374712           11170.201982   \n",
       "\n",
       "                Coef_lasso_alpha0.01  Coef_lasso_alpha0.1  Coef_lasso_alpha1  \n",
       "Feature/Column                                                                \n",
       "Feat01                      2.292832             2.044682           0.000000  \n",
       "Feat02                      0.000010             0.000011           0.000025  \n",
       "Feat03                      0.006183             0.007132           0.016623  \n",
       "Feat04                      0.001158             0.001325           0.002999  \n",
       "Feat05                      0.013636             0.016409           0.044135  \n",
       "Feat06                      0.112949             0.128999           0.289422  \n",
       "Feat07                      0.000000             1.380502          18.417558  \n",
       "Feat08                      0.128410             0.176221           0.653633  \n",
       "Feat09                     16.313820            18.113637          36.061111  \n",
       "Feat10                  11108.586938         10498.753481        4393.871080  "
      ]
     },
     "execution_count": 12,
     "metadata": {},
     "output_type": "execute_result"
    }
   ],
   "source": [
    "lasso_alpha_comparison = model_coefs.set_index(\"Feature/Column\").apply(lambda x: np.abs(x),axis=1)\n",
    "lasso_alpha_comparison"
   ]
  },
  {
   "cell_type": "code",
   "execution_count": 13,
   "metadata": {},
   "outputs": [
    {
     "data": {
      "text/plain": [
       "<matplotlib.axes._subplots.AxesSubplot at 0x2221e5c4bc8>"
      ]
     },
     "execution_count": 13,
     "metadata": {},
     "output_type": "execute_result"
    },
    {
     "data": {
      "image/png": "[encoded data removed]",
      "text/plain": [
       "<Figure size 432x288 with 2 Axes>"
      ]
     },
     "metadata": {
      "needs_background": "light"
     },
     "output_type": "display_data"
    }
   ],
   "source": [
    "sns.heatmap(lasso_alpha_comparison.T)"
   ]
  },
  {
   "cell_type": "markdown",
   "metadata": {},
   "source": [
    "In order to reduce the coefficient of strong regressor Feat10, the coefficients of other regressors have actually increased. We can choose the penalty where $\\lambda$ = 0.1. At $\\lambda$ = 0.01, the coefficient of Feat07 becomes 0 indicating a weak regressor. At $\\lambda$ = 1.0, the coefficient of Feat01 being 0 also indicates a weak regressor."
   ]
  },
  {
   "cell_type": "code",
   "execution_count": 14,
   "metadata": {},
   "outputs": [
    {
     "name": "stdout",
     "output_type": "stream",
     "text": [
      "At alpha = 0.1 , the 3-fold CV R^2 scores are [0.89301571 0.89750366 0.89126253] \n",
      "with a mean R^2 score of 0.8939\n",
      "At alpha = 0.1 , the 3-fold CV RMSE scores are [85.49033350957237, 83.71162502363538, 85.30951919932191] \n",
      "with a mean RMSE of 84.8372\n"
     ]
    }
   ],
   "source": [
    "r2_cross_val = cross_val_score(Lasso(alpha=0.1),X,y,cv=3,scoring=\"r2\")\n",
    "print(\"At alpha = 0.1 , the 3-fold CV R^2 scores are {} \\nwith a mean R^2 score of {:.4f}\".format(r2_cross_val,np.mean(r2_cross_val)))\n",
    "rmse_cross_val = cross_val_score(Lasso(alpha=0.1),X,y,cv=3,scoring=\"neg_root_mean_squared_error\")\n",
    "print(\"At alpha = 0.1 , the 3-fold CV RMSE scores are {} \\nwith a mean RMSE of {:.4f}\".format([-i for i in rmse_cross_val],-np.mean(rmse_cross_val)))"
   ]
  },
  {
   "cell_type": "markdown",
   "metadata": {},
   "source": [
    "At $\\lambda$ = 0.1, we have sacrificed negligible performance but the model is less likely to overfit."
   ]
  },
  {
   "cell_type": "markdown",
   "metadata": {},
   "source": [
    "**Conclusion:** In this case, L1 regularization has not been much effective in variable selection and regularization. This might have happened due to large coefficient of Feat10."
   ]
  }
 ],
 "metadata": {
  "kernelspec": {
   "display_name": "Python 3",
   "language": "python",
   "name": "python3"
  },
  "language_info": {
   "codemirror_mode": {
    "name": "ipython",
    "version": 3
   },
   "file_extension": ".py",
   "mimetype": "text/x-python",
   "name": "python",
   "nbconvert_exporter": "python",
   "pygments_lexer": "ipython3",
   "version": "3.7.6"
  }
 },
 "nbformat": 4,
 "nbformat_minor": 4
}

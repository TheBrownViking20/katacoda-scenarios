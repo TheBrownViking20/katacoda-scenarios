{
 "cells": [
  {
   "cell_type": "markdown",
   "metadata": {},
   "source": [
    "# Linear Regression with Python\n",
    "\n",
    "## Multiple Linear Regression using Python\n",
    "\n",
    "### What is linear regression?\n",
    "Linear Regression attempts to find a relationship between a dependent variable and one or more explantory (or independent) variables. In case of simple linear regression where there is only one explanatory variable, linear regression is described as a general equation as shown below.\n",
    "\n",
    "\\begin{align}\n",
    "y = b_0 + b_1x + \\epsilon\n",
    "\\end{align}\n",
    "\n",
    "where y is the dependent variable, x is the explanatory variable with coefficient b<sub>1</sub>, and b<sub>0</sub> is the intercept with the error term $\\epsilon$.\n",
    "\n",
    "For **multiple linear regression**, we have two or more explanatory variables so the equation. It is described as a general equation as shown below. \n",
    "\n",
    "\\begin{align}\n",
    "y = b_0 + b_1x_1 + ... + b_px_p + \\epsilon \n",
    "\\end{align}\n",
    "\n",
    "where y is the dependent variable, x<sub>1</sub>...x<sub>p</sub> are the explanatory variables with regression coefficients b<sub>1</sub>...b<sub>p</sub>, and b<sub>0</sub> is the intercept with the error term $\\epsilon$."
   ]
  },
  {
   "cell_type": "code",
   "execution_count": 1,
   "metadata": {},
   "outputs": [],
   "source": [
    "# Import Libraries\n",
    "import numpy as np\n",
    "import pandas as pd\n",
    "import matplotlib.pyplot as plt\n",
    "from scipy.stats import probplot\n",
    "\n",
    "from sklearn.model_selection import train_test_split, cross_val_score\n",
    "from sklearn.linear_model import LinearRegression\n",
    "from sklearn.metrics import r2_score, mean_squared_error\n",
    "from sklearn.feature_selection import mutual_info_regression, f_regression, RFE, SelectKBest"
   ]
  },
  {
   "cell_type": "markdown",
   "metadata": {},
   "source": [
    "### About the dataset\n",
    "This is a simulated dataset made for teaching regression containing 10 independent variables named **Feat01, Feat02..., Feat10** and a dependent variable called **Target**. \n",
    "\n",
    "### The task\n",
    "The task at hand is to predict the **Target** variable such that the values of predictions are as close to the actual values as possible. This will be done using a multiple linear regression model."
   ]
  },
  {
   "cell_type": "code",
   "execution_count": 2,
   "metadata": {},
   "outputs": [
    {
     "data": {
      "text/html": [
       "<div>\n",
       "<style scoped>\n",
       "    .dataframe tbody tr th:only-of-type {\n",
       "        vertical-align: middle;\n",
       "    }\n",
       "\n",
       "    .dataframe tbody tr th {\n",
       "        vertical-align: top;\n",
       "    }\n",
       "\n",
       "    .dataframe thead th {\n",
       "        text-align: right;\n",
       "    }\n",
       "</style>\n",
       "<table border=\"1\" class=\"dataframe\">\n",
       "  <thead>\n",
       "    <tr style=\"text-align: right;\">\n",
       "      <th></th>\n",
       "      <th>Feat01</th>\n",
       "      <th>Feat02</th>\n",
       "      <th>Feat03</th>\n",
       "      <th>Feat04</th>\n",
       "      <th>Feat05</th>\n",
       "      <th>Feat06</th>\n",
       "      <th>Feat07</th>\n",
       "      <th>Feat08</th>\n",
       "      <th>Feat09</th>\n",
       "      <th>Feat10</th>\n",
       "      <th>Target</th>\n",
       "    </tr>\n",
       "  </thead>\n",
       "  <tbody>\n",
       "    <tr>\n",
       "      <th>0</th>\n",
       "      <td>0</td>\n",
       "      <td>11617.463</td>\n",
       "      <td>135.935905</td>\n",
       "      <td>10960</td>\n",
       "      <td>491.597396</td>\n",
       "      <td>80.714963</td>\n",
       "      <td>0.675678</td>\n",
       "      <td>16.891946</td>\n",
       "      <td>0.506758</td>\n",
       "      <td>1.198996</td>\n",
       "      <td>137</td>\n",
       "    </tr>\n",
       "    <tr>\n",
       "      <th>1</th>\n",
       "      <td>0</td>\n",
       "      <td>1086607.005</td>\n",
       "      <td>1983.900611</td>\n",
       "      <td>13065</td>\n",
       "      <td>1391.028397</td>\n",
       "      <td>64.221576</td>\n",
       "      <td>0.880523</td>\n",
       "      <td>0.146754</td>\n",
       "      <td>0.146754</td>\n",
       "      <td>1.230974</td>\n",
       "      <td>335</td>\n",
       "    </tr>\n",
       "    <tr>\n",
       "      <th>2</th>\n",
       "      <td>0</td>\n",
       "      <td>37945.952</td>\n",
       "      <td>2726.252884</td>\n",
       "      <td>8772</td>\n",
       "      <td>222.952910</td>\n",
       "      <td>37.589307</td>\n",
       "      <td>0.325336</td>\n",
       "      <td>16.266790</td>\n",
       "      <td>0.488004</td>\n",
       "      <td>1.208015</td>\n",
       "      <td>172</td>\n",
       "    </tr>\n",
       "    <tr>\n",
       "      <th>3</th>\n",
       "      <td>0</td>\n",
       "      <td>79471.821</td>\n",
       "      <td>3448.065646</td>\n",
       "      <td>36414</td>\n",
       "      <td>883.345912</td>\n",
       "      <td>662.170505</td>\n",
       "      <td>0.257565</td>\n",
       "      <td>0.000000</td>\n",
       "      <td>0.128782</td>\n",
       "      <td>1.256901</td>\n",
       "      <td>867</td>\n",
       "    </tr>\n",
       "    <tr>\n",
       "      <th>4</th>\n",
       "      <td>1</td>\n",
       "      <td>5486.580</td>\n",
       "      <td>1509.753541</td>\n",
       "      <td>13040</td>\n",
       "      <td>742.253326</td>\n",
       "      <td>99.315014</td>\n",
       "      <td>0.129816</td>\n",
       "      <td>0.000000</td>\n",
       "      <td>0.129816</td>\n",
       "      <td>1.255410</td>\n",
       "      <td>815</td>\n",
       "    </tr>\n",
       "  </tbody>\n",
       "</table>\n",
       "</div>"
      ],
      "text/plain": [
       "   Feat01       Feat02       Feat03  Feat04       Feat05      Feat06  \\\n",
       "0       0    11617.463   135.935905   10960   491.597396   80.714963   \n",
       "1       0  1086607.005  1983.900611   13065  1391.028397   64.221576   \n",
       "2       0    37945.952  2726.252884    8772   222.952910   37.589307   \n",
       "3       0    79471.821  3448.065646   36414   883.345912  662.170505   \n",
       "4       1     5486.580  1509.753541   13040   742.253326   99.315014   \n",
       "\n",
       "     Feat07     Feat08    Feat09    Feat10  Target  \n",
       "0  0.675678  16.891946  0.506758  1.198996     137  \n",
       "1  0.880523   0.146754  0.146754  1.230974     335  \n",
       "2  0.325336  16.266790  0.488004  1.208015     172  \n",
       "3  0.257565   0.000000  0.128782  1.256901     867  \n",
       "4  0.129816   0.000000  0.129816  1.255410     815  "
      ]
     },
     "execution_count": 2,
     "metadata": {},
     "output_type": "execute_result"
    }
   ],
   "source": [
    "# Loading data\n",
    "data = pd.read_csv(\"data.csv\")\n",
    "data.head()"
   ]
  },
  {
   "cell_type": "code",
   "execution_count": 3,
   "metadata": {},
   "outputs": [],
   "source": [
    "X = data.drop([\"Target\"],axis=1) # Explanatory(independent) variables\n",
    "y = data[\"Target\"] # Dependent variable"
   ]
  },
  {
   "cell_type": "markdown",
   "metadata": {},
   "source": [
    "### Train/test split\n",
    "Data is divided into training and test set. Training set is used to train the linear model and test set is used evaluate the trained model. Here, we are using 70% data in the training set, leaving 30% data for the test set. The train-test set ratio is determined keeping in mind the size of data. Larger test sets (around 20-30% data) provide more reliable evaluation results but at the same time training set should be enough so that underfitting does not occur.  "
   ]
  },
  {
   "cell_type": "code",
   "execution_count": 4,
   "metadata": {},
   "outputs": [],
   "source": [
    "# A 70/30 train/test split\n",
    "X_train, X_test, y_train, y_test = train_test_split(X, y,\n",
    "                                                    test_size=0.3,\n",
    "                                                    random_state=100,\n",
    "                                                    shuffle=True)"
   ]
  },
  {
   "cell_type": "markdown",
   "metadata": {},
   "source": [
    "### Training a linear regression model\n",
    "We will train a linear regression model using all ten available features. The `fit` method of the `LinearRegression()` class trains models and estimates the best possible intercept and coefficient(s). "
   ]
  },
  {
   "cell_type": "code",
   "execution_count": 5,
   "metadata": {},
   "outputs": [
    {
     "data": {
      "text/plain": [
       "LinearRegression(copy_X=True, fit_intercept=True, n_jobs=None, normalize=False)"
      ]
     },
     "execution_count": 5,
     "metadata": {},
     "output_type": "execute_result"
    }
   ],
   "source": [
    "# Fitting a linear model for multiple linear regression\n",
    "model = LinearRegression()\n",
    "model.fit(X_train,y_train)"
   ]
  },
  {
   "cell_type": "code",
   "execution_count": 6,
   "metadata": {},
   "outputs": [
    {
     "data": {
      "text/html": [
       "<div>\n",
       "<style scoped>\n",
       "    .dataframe tbody tr th:only-of-type {\n",
       "        vertical-align: middle;\n",
       "    }\n",
       "\n",
       "    .dataframe tbody tr th {\n",
       "        vertical-align: top;\n",
       "    }\n",
       "\n",
       "    .dataframe thead th {\n",
       "        text-align: right;\n",
       "    }\n",
       "</style>\n",
       "<table border=\"1\" class=\"dataframe\">\n",
       "  <thead>\n",
       "    <tr style=\"text-align: right;\">\n",
       "      <th></th>\n",
       "      <th>Feature/Column</th>\n",
       "      <th>Coefficients</th>\n",
       "    </tr>\n",
       "  </thead>\n",
       "  <tbody>\n",
       "    <tr>\n",
       "      <th>0</th>\n",
       "      <td>Feat01</td>\n",
       "      <td>2.319425</td>\n",
       "    </tr>\n",
       "    <tr>\n",
       "      <th>1</th>\n",
       "      <td>Feat02</td>\n",
       "      <td>0.000010</td>\n",
       "    </tr>\n",
       "    <tr>\n",
       "      <th>2</th>\n",
       "      <td>Feat03</td>\n",
       "      <td>0.006078</td>\n",
       "    </tr>\n",
       "    <tr>\n",
       "      <th>3</th>\n",
       "      <td>Feat04</td>\n",
       "      <td>0.001139</td>\n",
       "    </tr>\n",
       "    <tr>\n",
       "      <th>4</th>\n",
       "      <td>Feat05</td>\n",
       "      <td>0.013329</td>\n",
       "    </tr>\n",
       "    <tr>\n",
       "      <th>5</th>\n",
       "      <td>Feat06</td>\n",
       "      <td>0.111174</td>\n",
       "    </tr>\n",
       "    <tr>\n",
       "      <th>6</th>\n",
       "      <td>Feat07</td>\n",
       "      <td>0.511887</td>\n",
       "    </tr>\n",
       "    <tr>\n",
       "      <th>7</th>\n",
       "      <td>Feat08</td>\n",
       "      <td>-0.123155</td>\n",
       "    </tr>\n",
       "    <tr>\n",
       "      <th>8</th>\n",
       "      <td>Feat09</td>\n",
       "      <td>-16.116907</td>\n",
       "    </tr>\n",
       "    <tr>\n",
       "      <th>9</th>\n",
       "      <td>Feat10</td>\n",
       "      <td>11177.060571</td>\n",
       "    </tr>\n",
       "  </tbody>\n",
       "</table>\n",
       "</div>"
      ],
      "text/plain": [
       "  Feature/Column  Coefficients\n",
       "0         Feat01      2.319425\n",
       "1         Feat02      0.000010\n",
       "2         Feat03      0.006078\n",
       "3         Feat04      0.001139\n",
       "4         Feat05      0.013329\n",
       "5         Feat06      0.111174\n",
       "6         Feat07      0.511887\n",
       "7         Feat08     -0.123155\n",
       "8         Feat09    -16.116907\n",
       "9         Feat10  11177.060571"
      ]
     },
     "execution_count": 6,
     "metadata": {},
     "output_type": "execute_result"
    }
   ],
   "source": [
    "# The coefficients for each columns\n",
    "model_coefs = pd.DataFrame({'Feature/Column':list(X_train.columns),\"Coefficients\":model.coef_})\n",
    "model_coefs"
   ]
  },
  {
   "cell_type": "code",
   "execution_count": 7,
   "metadata": {},
   "outputs": [
    {
     "data": {
      "text/plain": [
       "-13397.877366112254"
      ]
     },
     "execution_count": 7,
     "metadata": {},
     "output_type": "execute_result"
    }
   ],
   "source": [
    "# The model's intercept\n",
    "model.intercept_"
   ]
  },
  {
   "cell_type": "markdown",
   "metadata": {},
   "source": [
    "### Taking predictions\n",
    "We can use `predict` method to take predictions of the test set."
   ]
  },
  {
   "cell_type": "code",
   "execution_count": 8,
   "metadata": {},
   "outputs": [],
   "source": [
    "# Taking predictions\n",
    "y_pred = model.predict(X_test)"
   ]
  },
  {
   "cell_type": "markdown",
   "metadata": {},
   "source": [
    "### Model Evaluation\n",
    "We will be evaluating the model now. We will start by using the metrics R-squared score and RMSE.\n",
    "\n",
    "**R-squared score** - This score varies from 0 to 1 and represents the proportion of variance of the dependent variable explained by the independent variable(s). It conveys the extent to which the variance of one variable explains the variance of the other. The ideal score is 1.0 which conveys that 100% of the variance of the dependent variable is explained by the independent variables."
   ]
  },
  {
   "cell_type": "code",
   "execution_count": 9,
   "metadata": {},
   "outputs": [
    {
     "name": "stdout",
     "output_type": "stream",
     "text": [
      "The R-squared score is 0.8978\n"
     ]
    }
   ],
   "source": [
    "print(\"The R-squared score is {:.4f}\".format(r2_score(y_test,y_pred)))"
   ]
  },
  {
   "cell_type": "markdown",
   "metadata": {},
   "source": [
    "The model used above explains only 89.78% variance of the dependent variable. This can be improved using more data and better features.\n",
    "\n",
    "**Root Mean Squared Error(RMSE)** - RMSE is the standard deviation of the residuals (prediction errors). It measures the spread of the data around the line of best fit. RMSE is always non-negative with a value of 0 being ideal. A lower RMSE is better than a higher one. RMSE of two different datasets should not be compared as this measure is dependent on the scales of the data.\n",
    "\n",
    "\\begin{align}\n",
    "RMSE = \\sqrt{\\frac{\\sum_{i=1}^n \\left(\\hat{y_i} - y_i \\right)^2}{n}}\n",
    "\\end{align}\n",
    "\n",
    "Here, $\\hat{y}$ is the predicted value and y is the observed value. n is the number of rows in the dataset. "
   ]
  },
  {
   "cell_type": "code",
   "execution_count": 10,
   "metadata": {},
   "outputs": [
    {
     "name": "stdout",
     "output_type": "stream",
     "text": [
      "The Root Mean Squared error is 82.8497\n"
     ]
    }
   ],
   "source": [
    "print(\"The Root Mean Squared error is {:.4f}\".format(np.sqrt(mean_squared_error(y_test,y_pred))))"
   ]
  },
  {
   "cell_type": "markdown",
   "metadata": {},
   "source": [
    "### Cross-validation\n",
    "How can we be sure that this model gives at least similar performance on other data samples with same parameters using different training samples? As a data scientist, we must ensure that our model gives similar performance for any data sample, seen or unseen before. Therefore, to estimate the skill of our machine learning models, we use cross validation. Cross-validation is a resampling procedure where we measure the performance of our model by training and testing it on different data samples from the available data. A good model's performance will remain similar on matter what data sample is used.\n",
    "\n",
    "### k-Fold Cross-validation\n",
    "We will be using k-Fold cross-validation for estimating our model's performance. In k-Fold cross validation, data is divided into `k` sets. It is trained `k` times taking a different set of k-1 sets for training and testing on the 1 remaining set. `k` should be selected keeping in mind the size of the available dataset.\n",
    "\n",
    "If k=4 is selected,\n",
    "1. Iteration 1 - Training on (Fold 1, Fold 2, Fold 3), Testing on Fold 4\n",
    "2. Iteration 2 - Training on (Fold 2, Fold 3, Fold 4), Testing on Fold 1\n",
    "3. Iteration 3 - Training on (Fold 3, Fold 4, Fold 1), Testing on Fold 2\n",
    "4. Iteration 4 - Training on (Fold 4, Fold 1, Fold 2), Testing on Fold 3\n",
    "\n",
    "We will use cross-validation with 3 folds as then the training set size will be 66% which is closest to the 70% training set size of the original model "
   ]
  },
  {
   "cell_type": "code",
   "execution_count": 11,
   "metadata": {},
   "outputs": [
    {
     "name": "stdout",
     "output_type": "stream",
     "text": [
      "The 3-fold CV R^2 scores are [0.89411875 0.89787452 0.89275597] \n",
      "with a mean R^2 score of 0.8949\n",
      "The 3-fold CV RMSE scores are [85.04847542209288, 83.56004204324616, 84.72165770028043] \n",
      "with a mean RMSE of 84.4434\n"
     ]
    }
   ],
   "source": [
    "# 3-Fold cross-validation scored using R^2 score\n",
    "r2_cross_val = cross_val_score(LinearRegression(),X,y,cv=3,scoring=\"r2\")\n",
    "print(\"The 3-fold CV R^2 scores are {} \\nwith a mean R^2 score of {:.4f}\".format(r2_cross_val,np.mean(r2_cross_val)))\n",
    "# 3-Fold cross-validation scored using RMSE\n",
    "rmse_cross_val = cross_val_score(LinearRegression(),X,y,cv=3,scoring=\"neg_root_mean_squared_error\")\n",
    "print(\"The 3-fold CV RMSE scores are {} \\nwith a mean RMSE of {:.4f}\".format([-i for i in rmse_cross_val],-np.mean(rmse_cross_val)))"
   ]
  },
  {
   "cell_type": "markdown",
   "metadata": {},
   "source": [
    "We can see that the performance of our model on all 3 folds is very similar to that on the original 70/30 split shown above."
   ]
  },
  {
   "cell_type": "markdown",
   "metadata": {},
   "source": [
    "### Feature Selection\n",
    "We have simply trained our model on all given features. It should be noted that not all these features will be useful for your model or be able to explain significant variability. Some features may also negatively affect the model performance. To tackle this, feature selection methods are used. Using these methods, we can find out the most relevant features and discard the useless features. As a result, we get a lightweight model with similar or better performance.\n",
    "\n",
    "#### Select K Best\n",
    "In this method, we get top K features from our dataset. Features are evaluated using a score function passed to the `SelectKBest` class object. \n",
    "\n",
    "#### F-value method\n",
    "In this method, univariate linear regression tests are performed. Linear models are used for testing the individual effect of each of many regressors(independent variables.).\n",
    "\n",
    "This is done in 2 steps:\n",
    "\n",
    "1. The correlation between each regressor and the target is computed.\n",
    "\n",
    "2. It is converted to an F-score then to a p-value.\n",
    "\n",
    "F-statistic is the value that you get when you run an ANOVA test or a regression analysis to find out if the means between two populations are significantly different. F-test tells if a given variables are jointly significant. \n",
    "\n",
    "F-value is the ratio of variance of the group means (Mean Square Between) and mean of the within group variances (Mean Squared Error)\n",
    "\n",
    "If F-value is more than F-statistic, you can reject the null hypothesis. F-values and their resulting p-values are used to score independent variables. "
   ]
  },
  {
   "cell_type": "code",
   "execution_count": 12,
   "metadata": {},
   "outputs": [
    {
     "data": {
      "image/png": "[encoded data removed]",
      "text/plain": [
       "<Figure size 432x288 with 1 Axes>"
      ]
     },
     "metadata": {
      "needs_background": "light"
     },
     "output_type": "display_data"
    }
   ],
   "source": [
    "# Feature selection using SelectKBest\n",
    "# Fit a model using training data using F-value(f_regression) method \n",
    "skb = SelectKBest(f_regression).fit(X, y)\n",
    "# DataFrame of variables w/ corresponding scores\n",
    "skb_df = pd.DataFrame({\"Feature/Column\": list(X_train.columns),\"Scores\":skb.scores_}) \n",
    "# Plot a bar plot of scores\n",
    "skb_df.sort_values(\"Scores\",ascending=False).set_index(\"Feature/Column\").plot(kind=\"bar\")\n",
    "plt.title(\"F-value based Feature Selection scores\")\n",
    "plt.show()"
   ]
  },
  {
   "cell_type": "markdown",
   "metadata": {},
   "source": [
    "Only 5 features(most prominently Feat10) have been deemed significant by this method. Let's estimate the model performance with only five best variables. "
   ]
  },
  {
   "cell_type": "code",
   "execution_count": 13,
   "metadata": {},
   "outputs": [
    {
     "name": "stdout",
     "output_type": "stream",
     "text": [
      "3-Fold cross-validation with 5 features\n",
      "The 3-fold CV R^2 scores are [0.89371822 0.89699838 0.8921628 ] \n",
      "with a mean R^2 score of 0.8943\n",
      "The 3-fold CV RMSE scores are [85.20918580819072, 83.91771114963349, 84.95563140238635] \n",
      "with a mean RMSE of 84.6942\n"
     ]
    }
   ],
   "source": [
    "print(\"3-Fold cross-validation with 5 features\")\n",
    "# 3-Fold cross-validation scored using R^2 score\n",
    "r2_cross_val = cross_val_score(LinearRegression(),X[[\"Feat10\",\"Feat06\",\"Feat03\",\"Feat04\",\"Feat05\"]],y,cv=3,scoring=\"r2\")\n",
    "print(\"The 3-fold CV R^2 scores are {} \\nwith a mean R^2 score of {:.4f}\".format(r2_cross_val,np.mean(r2_cross_val)))\n",
    "# 3-Fold cross-validation scored using RMSE\n",
    "rmse_cross_val = cross_val_score(LinearRegression(),X[[\"Feat10\",\"Feat06\",\"Feat03\",\"Feat04\",\"Feat05\"]],y,cv=3,scoring=\"neg_root_mean_squared_error\")\n",
    "print(\"The 3-fold CV RMSE scores are {} \\nwith a mean RMSE of {:.4f}\".format([-i for i in rmse_cross_val],-np.mean(rmse_cross_val)))"
   ]
  },
  {
   "cell_type": "markdown",
   "metadata": {},
   "source": [
    "Our model loses negligible performance but the new model is lightweight and less likely to overfit. We can check the effect on performance with each new feature addition."
   ]
  },
  {
   "cell_type": "code",
   "execution_count": 14,
   "metadata": {},
   "outputs": [
    {
     "data": {
      "image/png": "[encoded data removed]",
      "text/plain": [
       "<Figure size 864x432 with 2 Axes>"
      ]
     },
     "metadata": {
      "needs_background": "light"
     },
     "output_type": "display_data"
    }
   ],
   "source": [
    "r2 = []\n",
    "rmse = []\n",
    "# Iteratively measure R^2 score and RMSE with new feature addition\n",
    "for i in range(1,X.shape[1]+1):\n",
    "    skb = SelectKBest(f_regression,k=i).fit(X_train, y_train) # Feature selection object with i best features\n",
    "    X_train_new = skb.transform(X_train) # Transform data so it has only i features\n",
    "    X_test_new = skb.transform(X_test)\n",
    "    model_new = LinearRegression() \n",
    "    model_new.fit(X_train_new,y_train) # Train a linear regression model\n",
    "    y_pred_new = model_new.predict(X_test_new) # Take predictions\n",
    "    # Record scores for this iteration\n",
    "    r2.append(r2_score(y_test,y_pred_new)) \n",
    "    rmse.append(np.sqrt(mean_squared_error(y_test,y_pred_new)))\n",
    "\n",
    "# Plot performance trends\n",
    "fig, axs = plt.subplots(2, 1, sharex=True, figsize=(12,6))\n",
    "fig.suptitle('Feature Selection using F-value method', fontsize=16)\n",
    "axs[0].plot(np.arange(1,X.shape[1]+1),rmse)\n",
    "axs[0].set_title(\"RMSE with increasing number of features\")\n",
    "axs[0].set_ylabel(\"RMSE value\")\n",
    "axs[1].plot(np.arange(1,X.shape[1]+1),r2)\n",
    "axs[1].set_title(\"R^2 score with increasing number of features\")\n",
    "axs[1].set_xlabel(\"Number of features\")\n",
    "axs[1].set_ylabel(\"R^2 score\")\n",
    "plt.show()"
   ]
  },
  {
   "cell_type": "markdown",
   "metadata": {},
   "source": [
    "Looking at the trend, it is advised to use 5-6 top features for the best possible performance. "
   ]
  },
  {
   "cell_type": "markdown",
   "metadata": {},
   "source": [
    "#### Mutual Information method\n",
    "In this method, we estimate the mutual information for a continuous target variable. Mutual information between two random variables is a value that measures the dependency between them. If two random variables are independent, this value is zero and higher values mean higher dependency."
   ]
  },
  {
   "cell_type": "code",
   "execution_count": 15,
   "metadata": {},
   "outputs": [
    {
     "data": {
      "image/png": "[encoded data removed]",
      "text/plain": [
       "<Figure size 432x288 with 1 Axes>"
      ]
     },
     "metadata": {
      "needs_background": "light"
     },
     "output_type": "display_data"
    }
   ],
   "source": [
    "# Feature selection using SelectKBest\n",
    "# Fit a model using training data using mutual_info_regression method \n",
    "skb = SelectKBest(mutual_info_regression).fit(X_train, y_train)\n",
    "skb_df = pd.DataFrame({\"Feature/Column\": list(X_train.columns),\"Scores\":skb.scores_})\n",
    "skb_df.sort_values(\"Scores\",ascending=False).set_index(\"Feature/Column\").plot(kind=\"bar\")\n",
    "plt.title(\"Mutual Information based Feature Selection scores\")\n",
    "plt.show()"
   ]
  },
  {
   "cell_type": "markdown",
   "metadata": {},
   "source": [
    "Here, we should include all features but Feat01 in our model. The order of importance is also different from F-value method."
   ]
  },
  {
   "cell_type": "code",
   "execution_count": 16,
   "metadata": {},
   "outputs": [
    {
     "name": "stdout",
     "output_type": "stream",
     "text": [
      "3-Fold cross-validation with 9 features\n",
      "The 3-fold CV R^2 scores are [0.89409152 0.89784605 0.89286033] \n",
      "with a mean R^2 score of 0.8949\n",
      "The 3-fold CV RMSE scores are [85.05941158169952, 83.57169123335169, 84.68042458988003] \n",
      "with a mean RMSE of 84.4372\n"
     ]
    }
   ],
   "source": [
    "print(\"3-Fold cross-validation with 9 features\")\n",
    "# 3-Fold cross-validation scored using R^2 score\n",
    "r2_cross_val = cross_val_score(LinearRegression(),X.drop([\"Feat01\"],axis=1),y,cv=3,scoring=\"r2\")\n",
    "print(\"The 3-fold CV R^2 scores are {} \\nwith a mean R^2 score of {:.4f}\".format(r2_cross_val,np.mean(r2_cross_val)))\n",
    "# 3-Fold cross-validation scored using RMSE\n",
    "rmse_cross_val = cross_val_score(LinearRegression(),X.drop([\"Feat01\"],axis=1),y,cv=3,scoring=\"neg_root_mean_squared_error\")\n",
    "print(\"The 3-fold CV RMSE scores are {} \\nwith a mean RMSE of {:.4f}\".format([-i for i in rmse_cross_val],-np.mean(rmse_cross_val)))"
   ]
  },
  {
   "cell_type": "markdown",
   "metadata": {},
   "source": [
    "RMSE has actually improved slightly here and R^2 score remains same. So, we only have to remove Feat01. We can check the effect on performance with each new feature addition."
   ]
  },
  {
   "cell_type": "code",
   "execution_count": 17,
   "metadata": {
    "scrolled": false
   },
   "outputs": [
    {
     "data": {
      "image/png": "[encoded data removed]",
      "text/plain": [
       "<Figure size 864x432 with 2 Axes>"
      ]
     },
     "metadata": {
      "needs_background": "light"
     },
     "output_type": "display_data"
    }
   ],
   "source": [
    "r2 = []\n",
    "rmse = []\n",
    "for i in range(1,X.shape[1]+1):\n",
    "    skb = SelectKBest(mutual_info_regression,k=i).fit(X_train, y_train)\n",
    "    X_train_new = skb.transform(X_train)\n",
    "    X_test_new = skb.transform(X_test)\n",
    "    model_new = LinearRegression()\n",
    "    model_new.fit(X_train_new,y_train)\n",
    "    y_pred_new = model_new.predict(X_test_new)\n",
    "    r2.append(r2_score(y_test,y_pred_new))\n",
    "    rmse.append(np.sqrt(mean_squared_error(y_test,y_pred_new)))\n",
    "\n",
    "fig, axs = plt.subplots(2, 1, sharex=True, figsize=(12,6))\n",
    "fig.suptitle('Feature Selection using mutual_info_regression', fontsize=16)\n",
    "plt.title(\"Feature Selection\")\n",
    "axs[0].plot(np.arange(1,X.shape[1]+1),rmse)\n",
    "axs[0].set_title(\"RMSE with increasing number of features\")\n",
    "axs[0].set_ylabel(\"RMSE value\")\n",
    "axs[1].plot(np.arange(1,X.shape[1]+1),r2)\n",
    "axs[1].set_title(\"R^2 score with increasing number of features\")\n",
    "axs[1].set_xlabel(\"Number of features\")\n",
    "axs[1].set_ylabel(\"R^2 score\")\n",
    "plt.show()"
   ]
  },
  {
   "cell_type": "markdown",
   "metadata": {},
   "source": [
    "Looking at the trend, it is advised to include 8(or even 9) features in the final model as there is not much improvement in performance with the addition of the last two features. "
   ]
  },
  {
   "cell_type": "markdown",
   "metadata": {},
   "source": [
    "#### Recursive Feature Elimination (RFE) method\n",
    "This method involves feature ranking with recursive feature elimination. The goal is to select features by recusrsively using smaller and smaller sets of features. First, the external estimator(LinearRegression() in our case) is trained on all features. The feature with least importance is pruned. This process repeats till we have the specified number of best features. Let's try this with 5 best features."
   ]
  },
  {
   "cell_type": "code",
   "execution_count": 18,
   "metadata": {},
   "outputs": [
    {
     "name": "stdout",
     "output_type": "stream",
     "text": [
      "Fitting estimator with 10 features.\n",
      "Fitting estimator with 9 features.\n",
      "Fitting estimator with 8 features.\n",
      "Fitting estimator with 7 features.\n",
      "Fitting estimator with 6 features.\n"
     ]
    }
   ],
   "source": [
    "selector = RFE(LinearRegression(), n_features_to_select=5, step=1, verbose=1)\n",
    "selector = selector.fit(X,y)"
   ]
  },
  {
   "cell_type": "code",
   "execution_count": 19,
   "metadata": {},
   "outputs": [
    {
     "data": {
      "text/html": [
       "<div>\n",
       "<style scoped>\n",
       "    .dataframe tbody tr th:only-of-type {\n",
       "        vertical-align: middle;\n",
       "    }\n",
       "\n",
       "    .dataframe tbody tr th {\n",
       "        vertical-align: top;\n",
       "    }\n",
       "\n",
       "    .dataframe thead th {\n",
       "        text-align: right;\n",
       "    }\n",
       "</style>\n",
       "<table border=\"1\" class=\"dataframe\">\n",
       "  <thead>\n",
       "    <tr style=\"text-align: right;\">\n",
       "      <th></th>\n",
       "      <th>Feature/Column</th>\n",
       "      <th>Support</th>\n",
       "      <th>Ranking</th>\n",
       "    </tr>\n",
       "  </thead>\n",
       "  <tbody>\n",
       "    <tr>\n",
       "      <th>0</th>\n",
       "      <td>Feat01</td>\n",
       "      <td>True</td>\n",
       "      <td>1</td>\n",
       "    </tr>\n",
       "    <tr>\n",
       "      <th>5</th>\n",
       "      <td>Feat06</td>\n",
       "      <td>True</td>\n",
       "      <td>1</td>\n",
       "    </tr>\n",
       "    <tr>\n",
       "      <th>6</th>\n",
       "      <td>Feat07</td>\n",
       "      <td>True</td>\n",
       "      <td>1</td>\n",
       "    </tr>\n",
       "    <tr>\n",
       "      <th>8</th>\n",
       "      <td>Feat09</td>\n",
       "      <td>True</td>\n",
       "      <td>1</td>\n",
       "    </tr>\n",
       "    <tr>\n",
       "      <th>9</th>\n",
       "      <td>Feat10</td>\n",
       "      <td>True</td>\n",
       "      <td>1</td>\n",
       "    </tr>\n",
       "    <tr>\n",
       "      <th>7</th>\n",
       "      <td>Feat08</td>\n",
       "      <td>False</td>\n",
       "      <td>2</td>\n",
       "    </tr>\n",
       "    <tr>\n",
       "      <th>4</th>\n",
       "      <td>Feat05</td>\n",
       "      <td>False</td>\n",
       "      <td>3</td>\n",
       "    </tr>\n",
       "    <tr>\n",
       "      <th>2</th>\n",
       "      <td>Feat03</td>\n",
       "      <td>False</td>\n",
       "      <td>4</td>\n",
       "    </tr>\n",
       "    <tr>\n",
       "      <th>3</th>\n",
       "      <td>Feat04</td>\n",
       "      <td>False</td>\n",
       "      <td>5</td>\n",
       "    </tr>\n",
       "    <tr>\n",
       "      <th>1</th>\n",
       "      <td>Feat02</td>\n",
       "      <td>False</td>\n",
       "      <td>6</td>\n",
       "    </tr>\n",
       "  </tbody>\n",
       "</table>\n",
       "</div>"
      ],
      "text/plain": [
       "  Feature/Column  Support  Ranking\n",
       "0         Feat01     True        1\n",
       "5         Feat06     True        1\n",
       "6         Feat07     True        1\n",
       "8         Feat09     True        1\n",
       "9         Feat10     True        1\n",
       "7         Feat08    False        2\n",
       "4         Feat05    False        3\n",
       "2         Feat03    False        4\n",
       "3         Feat04    False        5\n",
       "1         Feat02    False        6"
      ]
     },
     "execution_count": 19,
     "metadata": {},
     "output_type": "execute_result"
    }
   ],
   "source": [
    "# DataFrame of results\n",
    "rfe_df = pd.DataFrame({\"Feature/Column\":list(X.columns),\"Support\":selector.support_,\"Ranking\":selector.ranking_})\n",
    "rfe_df.sort_values(\"Ranking\")"
   ]
  },
  {
   "cell_type": "markdown",
   "metadata": {},
   "source": [
    "Features where <i>Support</i> is True and <i>Ranking</i> is 1 have been selected. Other features have been ranked according to their importance. Let's estimate the model performance with the supported features."
   ]
  },
  {
   "cell_type": "code",
   "execution_count": 20,
   "metadata": {},
   "outputs": [
    {
     "name": "stdout",
     "output_type": "stream",
     "text": [
      "3-Fold cross-validation with 5 features\n",
      "The 3-fold CV R^2 scores are [0.88408379 0.88575691 0.88108805] \n",
      "with a mean R^2 score of 0.8836\n",
      "The 3-fold CV RMSE scores are [88.98751521970799, 88.37848746784498, 89.21145673642727] \n",
      "with a mean RMSE of 88.8592\n"
     ]
    }
   ],
   "source": [
    "supported_features = rfe_df[rfe_df.Ranking==1][\"Feature/Column\"].tolist()\n",
    "print(\"3-Fold cross-validation with 5 features\")\n",
    "# 3-Fold cross-validation scored using R^2 score\n",
    "r2_cross_val = cross_val_score(LinearRegression(),X[supported_features],y,cv=3,scoring=\"r2\")\n",
    "print(\"The 3-fold CV R^2 scores are {} \\nwith a mean R^2 score of {:.4f}\".format(r2_cross_val,np.mean(r2_cross_val)))\n",
    "# 3-Fold cross-validation scored using RMSE\n",
    "rmse_cross_val = cross_val_score(LinearRegression(),X[supported_features],y,cv=3,scoring=\"neg_root_mean_squared_error\")\n",
    "print(\"The 3-fold CV RMSE scores are {} \\nwith a mean RMSE of {:.4f}\".format([-i for i in rmse_cross_val],-np.mean(rmse_cross_val)))"
   ]
  },
  {
   "cell_type": "markdown",
   "metadata": {},
   "source": [
    "The RFE method has not performed as well as F-value method which was also validated on 5 features. Clearly, F-value method is a better choice."
   ]
  },
  {
   "cell_type": "markdown",
   "metadata": {},
   "source": [
    "**Conclusion:** We have successfully used cross-validation to estimate model performance. We have also used and compared various feature selection techniques."
   ]
  }
 ],
 "metadata": {
  "kernelspec": {
   "display_name": "Python 3",
   "language": "python",
   "name": "python3"
  },
  "language_info": {
   "codemirror_mode": {
    "name": "ipython",
    "version": 3
   },
   "file_extension": ".py",
   "mimetype": "text/x-python",
   "name": "python",
   "nbconvert_exporter": "python",
   "pygments_lexer": "ipython3",
   "version": "3.7.6"
  }
 },
 "nbformat": 4,
 "nbformat_minor": 4
}

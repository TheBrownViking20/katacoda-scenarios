{
 "cells": [
  {
   "cell_type": "markdown",
   "metadata": {},
   "source": [
    "# Linear Regression with Python\n",
    "\n",
    "## Polynomial Regression using Python\n",
    "\n",
    "\n",
    "### What is linear regression?\n",
    "Linear Regression attempts to find a relationship between a dependent variable and one or more explantory (or independent) variables. In case of simple linear regression where there is only one explanatory variable, linear regression is described as a general equation as shown below.\n",
    "\n",
    "\\begin{align}\n",
    "y = b_0 + b_1x + \\epsilon\n",
    "\\end{align}\n",
    "\n",
    "where y is the dependent variable, x is the explanatory variable with coefficient b<sub>1</sub>, and b<sub>0</sub> is the intercept with the error term $\\epsilon$.\n",
    "\n",
    "For multiple linear regression, we have two or more explanatory variables so the equation. It is described as a general equation as shown below. \n",
    "\n",
    "\\begin{align}\n",
    "y = b_0 + b_1x_1 + ... + b_px_p + \\epsilon \n",
    "\\end{align}\n",
    "\n",
    "where y is the dependent variable, x<sub>1</sub>...x<sub>p</sub> are the explanatory variables with regression coefficients b<sub>1</sub>...b<sub>p</sub>, and b<sub>0</sub> is the intercept with the error term $\\epsilon$.\n",
    "\n",
    "### Polynomial Regression\n",
    "Polynomial regression is used to fit non-linear data using linear models. This enables inclusion of non-linear trends which are not captured by a linear approach. This is done by transforming existing data into its higher order terms. Eg., Some new features will be 2nd or 3rd powers of old features."
   ]
  },
  {
   "cell_type": "code",
   "execution_count": 1,
   "metadata": {},
   "outputs": [],
   "source": [
    "# Import Libraries\n",
    "import numpy as np\n",
    "np.seterr(divide='ignore', invalid='ignore')\n",
    "import pandas as pd\n",
    "import matplotlib.pyplot as plt\n",
    "from scipy.stats import probplot\n",
    "from statsmodels.graphics.gofplots import qqplot_2samples\n",
    "\n",
    "from sklearn.model_selection import train_test_split, cross_val_score\n",
    "from sklearn.linear_model import LinearRegression\n",
    "from sklearn.metrics import r2_score, mean_squared_error\n",
    "from sklearn.feature_selection import mutual_info_regression, f_regression, RFE, SelectKBest\n",
    "from sklearn.preprocessing import PolynomialFeatures"
   ]
  },
  {
   "cell_type": "markdown",
   "metadata": {},
   "source": [
    "### About the dataset\n",
    "This is a simulated dataset made for teaching regression containing 10 independent variables named **Feat01, Feat02..., Feat10** and a dependent variable called **Target**. \n",
    "\n",
    "### The task\n",
    "The task at hand is to predict the **Target** variable such that the values of predictions are as close to the actual values as possible. This will be done using a polynomial regression model."
   ]
  },
  {
   "cell_type": "code",
   "execution_count": 2,
   "metadata": {},
   "outputs": [
    {
     "data": {
      "text/html": [
       "<div>\n",
       "<style scoped>\n",
       "    .dataframe tbody tr th:only-of-type {\n",
       "        vertical-align: middle;\n",
       "    }\n",
       "\n",
       "    .dataframe tbody tr th {\n",
       "        vertical-align: top;\n",
       "    }\n",
       "\n",
       "    .dataframe thead th {\n",
       "        text-align: right;\n",
       "    }\n",
       "</style>\n",
       "<table border=\"1\" class=\"dataframe\">\n",
       "  <thead>\n",
       "    <tr style=\"text-align: right;\">\n",
       "      <th></th>\n",
       "      <th>Feat01</th>\n",
       "      <th>Feat02</th>\n",
       "      <th>Feat03</th>\n",
       "      <th>Feat04</th>\n",
       "      <th>Feat05</th>\n",
       "      <th>Feat06</th>\n",
       "      <th>Feat07</th>\n",
       "      <th>Feat08</th>\n",
       "      <th>Feat09</th>\n",
       "      <th>Feat10</th>\n",
       "      <th>Target</th>\n",
       "    </tr>\n",
       "  </thead>\n",
       "  <tbody>\n",
       "    <tr>\n",
       "      <th>0</th>\n",
       "      <td>0</td>\n",
       "      <td>11617.463</td>\n",
       "      <td>135.935905</td>\n",
       "      <td>10960</td>\n",
       "      <td>491.597396</td>\n",
       "      <td>80.714963</td>\n",
       "      <td>0.675678</td>\n",
       "      <td>16.891946</td>\n",
       "      <td>0.506758</td>\n",
       "      <td>1.198996</td>\n",
       "      <td>137</td>\n",
       "    </tr>\n",
       "    <tr>\n",
       "      <th>1</th>\n",
       "      <td>0</td>\n",
       "      <td>1086607.005</td>\n",
       "      <td>1983.900611</td>\n",
       "      <td>13065</td>\n",
       "      <td>1391.028397</td>\n",
       "      <td>64.221576</td>\n",
       "      <td>0.880523</td>\n",
       "      <td>0.146754</td>\n",
       "      <td>0.146754</td>\n",
       "      <td>1.230974</td>\n",
       "      <td>335</td>\n",
       "    </tr>\n",
       "    <tr>\n",
       "      <th>2</th>\n",
       "      <td>0</td>\n",
       "      <td>37945.952</td>\n",
       "      <td>2726.252884</td>\n",
       "      <td>8772</td>\n",
       "      <td>222.952910</td>\n",
       "      <td>37.589307</td>\n",
       "      <td>0.325336</td>\n",
       "      <td>16.266790</td>\n",
       "      <td>0.488004</td>\n",
       "      <td>1.208015</td>\n",
       "      <td>172</td>\n",
       "    </tr>\n",
       "    <tr>\n",
       "      <th>3</th>\n",
       "      <td>0</td>\n",
       "      <td>79471.821</td>\n",
       "      <td>3448.065646</td>\n",
       "      <td>36414</td>\n",
       "      <td>883.345912</td>\n",
       "      <td>662.170505</td>\n",
       "      <td>0.257565</td>\n",
       "      <td>0.000000</td>\n",
       "      <td>0.128782</td>\n",
       "      <td>1.256901</td>\n",
       "      <td>867</td>\n",
       "    </tr>\n",
       "    <tr>\n",
       "      <th>4</th>\n",
       "      <td>1</td>\n",
       "      <td>5486.580</td>\n",
       "      <td>1509.753541</td>\n",
       "      <td>13040</td>\n",
       "      <td>742.253326</td>\n",
       "      <td>99.315014</td>\n",
       "      <td>0.129816</td>\n",
       "      <td>0.000000</td>\n",
       "      <td>0.129816</td>\n",
       "      <td>1.255410</td>\n",
       "      <td>815</td>\n",
       "    </tr>\n",
       "  </tbody>\n",
       "</table>\n",
       "</div>"
      ],
      "text/plain": [
       "   Feat01       Feat02       Feat03  Feat04       Feat05      Feat06  \\\n",
       "0       0    11617.463   135.935905   10960   491.597396   80.714963   \n",
       "1       0  1086607.005  1983.900611   13065  1391.028397   64.221576   \n",
       "2       0    37945.952  2726.252884    8772   222.952910   37.589307   \n",
       "3       0    79471.821  3448.065646   36414   883.345912  662.170505   \n",
       "4       1     5486.580  1509.753541   13040   742.253326   99.315014   \n",
       "\n",
       "     Feat07     Feat08    Feat09    Feat10  Target  \n",
       "0  0.675678  16.891946  0.506758  1.198996     137  \n",
       "1  0.880523   0.146754  0.146754  1.230974     335  \n",
       "2  0.325336  16.266790  0.488004  1.208015     172  \n",
       "3  0.257565   0.000000  0.128782  1.256901     867  \n",
       "4  0.129816   0.000000  0.129816  1.255410     815  "
      ]
     },
     "execution_count": 2,
     "metadata": {},
     "output_type": "execute_result"
    }
   ],
   "source": [
    "# Loading data\n",
    "data = pd.read_csv(\"data.csv\")\n",
    "data.head()"
   ]
  },
  {
   "cell_type": "code",
   "execution_count": 3,
   "metadata": {},
   "outputs": [],
   "source": [
    "X = data.drop([\"Target\"],axis=1) # Explanatory(independent) variables\n",
    "y = data[\"Target\"] # Dependent variable"
   ]
  },
  {
   "cell_type": "markdown",
   "metadata": {},
   "source": [
    "### Train/test split\n",
    "Data is divided into training and test set. Training set is used to train the linear model and test set is used evaluate the trained model. Here, we are using 70% data in the training set, leaving 30% data for the test set. The train-test set ratio is determined keeping in mind the size of data. Larger test sets (around 20-30% data) provide more reliable evaluation results but at the same time training set should be enough so that underfitting does not occur.  "
   ]
  },
  {
   "cell_type": "code",
   "execution_count": 4,
   "metadata": {},
   "outputs": [],
   "source": [
    "# A 70/30 train/test split\n",
    "X_train, X_test, y_train, y_test = train_test_split(X, y,\n",
    "                                                    test_size=0.3,\n",
    "                                                    random_state=100,\n",
    "                                                    shuffle=True)"
   ]
  },
  {
   "cell_type": "markdown",
   "metadata": {},
   "source": [
    "### Training a linear regression model\n",
    "We will train a linear regression model using all ten available features. The `fit` method of the `LinearRegression()` class trains models and estimates the best possible intercept and coefficient(s). "
   ]
  },
  {
   "cell_type": "code",
   "execution_count": 5,
   "metadata": {},
   "outputs": [
    {
     "data": {
      "text/plain": [
       "LinearRegression(copy_X=True, fit_intercept=True, n_jobs=None, normalize=False)"
      ]
     },
     "execution_count": 5,
     "metadata": {},
     "output_type": "execute_result"
    }
   ],
   "source": [
    "# Fitting a linear model for multiple linear regression\n",
    "model = LinearRegression()\n",
    "model.fit(X_train,y_train)"
   ]
  },
  {
   "cell_type": "code",
   "execution_count": 6,
   "metadata": {},
   "outputs": [
    {
     "data": {
      "text/html": [
       "<div>\n",
       "<style scoped>\n",
       "    .dataframe tbody tr th:only-of-type {\n",
       "        vertical-align: middle;\n",
       "    }\n",
       "\n",
       "    .dataframe tbody tr th {\n",
       "        vertical-align: top;\n",
       "    }\n",
       "\n",
       "    .dataframe thead th {\n",
       "        text-align: right;\n",
       "    }\n",
       "</style>\n",
       "<table border=\"1\" class=\"dataframe\">\n",
       "  <thead>\n",
       "    <tr style=\"text-align: right;\">\n",
       "      <th></th>\n",
       "      <th>Feature/Column</th>\n",
       "      <th>Coefficients</th>\n",
       "    </tr>\n",
       "  </thead>\n",
       "  <tbody>\n",
       "    <tr>\n",
       "      <th>0</th>\n",
       "      <td>Feat01</td>\n",
       "      <td>2.319425</td>\n",
       "    </tr>\n",
       "    <tr>\n",
       "      <th>1</th>\n",
       "      <td>Feat02</td>\n",
       "      <td>0.000010</td>\n",
       "    </tr>\n",
       "    <tr>\n",
       "      <th>2</th>\n",
       "      <td>Feat03</td>\n",
       "      <td>0.006078</td>\n",
       "    </tr>\n",
       "    <tr>\n",
       "      <th>3</th>\n",
       "      <td>Feat04</td>\n",
       "      <td>0.001139</td>\n",
       "    </tr>\n",
       "    <tr>\n",
       "      <th>4</th>\n",
       "      <td>Feat05</td>\n",
       "      <td>0.013329</td>\n",
       "    </tr>\n",
       "    <tr>\n",
       "      <th>5</th>\n",
       "      <td>Feat06</td>\n",
       "      <td>0.111174</td>\n",
       "    </tr>\n",
       "    <tr>\n",
       "      <th>6</th>\n",
       "      <td>Feat07</td>\n",
       "      <td>0.511887</td>\n",
       "    </tr>\n",
       "    <tr>\n",
       "      <th>7</th>\n",
       "      <td>Feat08</td>\n",
       "      <td>-0.123155</td>\n",
       "    </tr>\n",
       "    <tr>\n",
       "      <th>8</th>\n",
       "      <td>Feat09</td>\n",
       "      <td>-16.116907</td>\n",
       "    </tr>\n",
       "    <tr>\n",
       "      <th>9</th>\n",
       "      <td>Feat10</td>\n",
       "      <td>11177.060571</td>\n",
       "    </tr>\n",
       "  </tbody>\n",
       "</table>\n",
       "</div>"
      ],
      "text/plain": [
       "  Feature/Column  Coefficients\n",
       "0         Feat01      2.319425\n",
       "1         Feat02      0.000010\n",
       "2         Feat03      0.006078\n",
       "3         Feat04      0.001139\n",
       "4         Feat05      0.013329\n",
       "5         Feat06      0.111174\n",
       "6         Feat07      0.511887\n",
       "7         Feat08     -0.123155\n",
       "8         Feat09    -16.116907\n",
       "9         Feat10  11177.060571"
      ]
     },
     "execution_count": 6,
     "metadata": {},
     "output_type": "execute_result"
    }
   ],
   "source": [
    "# The coefficients for each columns\n",
    "model_coefs = pd.DataFrame({'Feature/Column':list(X_train.columns),\"Coefficients\":model.coef_})\n",
    "model_coefs"
   ]
  },
  {
   "cell_type": "code",
   "execution_count": 7,
   "metadata": {},
   "outputs": [
    {
     "data": {
      "text/plain": [
       "-13397.877366112254"
      ]
     },
     "execution_count": 7,
     "metadata": {},
     "output_type": "execute_result"
    }
   ],
   "source": [
    "# The model's intercept\n",
    "model.intercept_"
   ]
  },
  {
   "cell_type": "code",
   "execution_count": 8,
   "metadata": {},
   "outputs": [],
   "source": [
    "# Taking predictions\n",
    "y_pred = model.predict(X_test)"
   ]
  },
  {
   "cell_type": "markdown",
   "metadata": {},
   "source": [
    "### Model Evaluation\n",
    "We will be evaluating the model now. We will start by using the metrics R-squared score and RMSE.\n",
    "\n",
    "**R-squared score** - This score varies from 0 to 1 and represents the proportion of variance of the dependent variable explained by the independent variable(s). It conveys the extent to which the variance of one variable explains the variance of the other. The ideal score is 1.0 which conveys that 100% of the variance of the dependent variable is explained by the independent variables.\n",
    "\n",
    "**Root Mean Squared Error(RMSE)** - RMSE is the standard deviation of the residuals (prediction errors). It measures the spread of the data around the line of best fit. RMSE is always non-negative with a value of 0 being ideal. A lower RMSE is better than a higher one. RMSE of two different datasets should not be compared as this measure is dependent on the scales of the data.\n",
    "\n",
    "\\begin{align}\n",
    "RMSE = \\sqrt{\\frac{\\sum_{i=1}^n \\left(\\hat{y_i} - y_i \\right)^2}{n}}\n",
    "\\end{align}\n",
    "\n",
    "Here, $\\hat{y}$ is the predicted value and y is the observed value. n is the number of rows in the dataset."
   ]
  },
  {
   "cell_type": "code",
   "execution_count": 9,
   "metadata": {},
   "outputs": [
    {
     "name": "stdout",
     "output_type": "stream",
     "text": [
      "The R-squared score is 0.8978\n",
      "The Root Mean Squared error is 82.8497\n"
     ]
    }
   ],
   "source": [
    "print(\"The R-squared score is {:.4f}\".format(r2_score(y_test,y_pred)))\n",
    "print(\"The Root Mean Squared error is {:.4f}\".format(np.sqrt(mean_squared_error(y_test,y_pred))))"
   ]
  },
  {
   "cell_type": "code",
   "execution_count": 10,
   "metadata": {},
   "outputs": [
    {
     "name": "stdout",
     "output_type": "stream",
     "text": [
      "The 3-fold CV R^2 scores are [0.89411875 0.89787452 0.89275597] \n",
      "with a mean R^2 score of 0.8949\n",
      "The 3-fold CV RMSE scores are [85.04847542209288, 83.56004204324616, 84.72165770028043] \n",
      "with a mean RMSE of 84.4434\n"
     ]
    }
   ],
   "source": [
    "# 3-Fold cross-validation scored using R^2 score\n",
    "r2_cross_val = cross_val_score(LinearRegression(),X,y,cv=3,scoring=\"r2\")\n",
    "print(\"The 3-fold CV R^2 scores are {} \\nwith a mean R^2 score of {:.4f}\".format(r2_cross_val,np.mean(r2_cross_val)))\n",
    "# 3-Fold cross-validation scored using RMSE\n",
    "rmse_cross_val = cross_val_score(LinearRegression(),X,y,cv=3,scoring=\"neg_root_mean_squared_error\")\n",
    "print(\"The 3-fold CV RMSE scores are {} \\nwith a mean RMSE of {:.4f}\".format([-i for i in rmse_cross_val],-np.mean(rmse_cross_val)))"
   ]
  },
  {
   "cell_type": "markdown",
   "metadata": {},
   "source": [
    "### Polynomial Regression\n",
    "We will start with a Polynomial Regression model with 2nd degree polynomial features."
   ]
  },
  {
   "cell_type": "code",
   "execution_count": 11,
   "metadata": {
    "scrolled": true
   },
   "outputs": [
    {
     "name": "stdout",
     "output_type": "stream",
     "text": [
      "The number of features has increased from 10 to 66 with the inclusion of 2nd degree polynomial features.\n"
     ]
    }
   ],
   "source": [
    "poly = PolynomialFeatures(2) \n",
    "X_poly2 = poly.fit_transform(X)\n",
    "\n",
    "print(\"The number of features has increased from {} to {} with the inclusion of 2nd degree polynomial features.\".format(X.shape[1],X_poly2.shape[1]))"
   ]
  },
  {
   "cell_type": "markdown",
   "metadata": {},
   "source": [
    "Let's estimate the results of polynomial regression of 2nd degree."
   ]
  },
  {
   "cell_type": "code",
   "execution_count": 12,
   "metadata": {},
   "outputs": [
    {
     "name": "stdout",
     "output_type": "stream",
     "text": [
      "The 3-fold CV R^2 scores are [0.97459194 0.97643792 0.97270716] \n",
      "with a mean R^2 score of 0.9746\n",
      "The 3-fold CV RMSE scores are [41.662253199217595, 40.13640230311228, 42.73977900115019] \n",
      "with a mean RMSE of 41.5128\n"
     ]
    }
   ],
   "source": [
    "r2_cross_val = cross_val_score(LinearRegression(),X_poly2,y,cv=3,scoring=\"r2\")\n",
    "print(\"The 3-fold CV R^2 scores are {} \\nwith a mean R^2 score of {:.4f}\".format(r2_cross_val,np.mean(r2_cross_val)))\n",
    "rmse_cross_val = cross_val_score(LinearRegression(),X_poly2,y,cv=3,scoring=\"neg_root_mean_squared_error\")\n",
    "print(\"The 3-fold CV RMSE scores are {} \\nwith a mean RMSE of {:.4f}\".format([-i for i in rmse_cross_val],-np.mean(rmse_cross_val)))"
   ]
  },
  {
   "cell_type": "markdown",
   "metadata": {},
   "source": [
    "The R^2 score has increased significantly. RMSE is now less than half. Hence, due to polynomial features, we have a much better model now. Let's try this for 3rd degree polynomial features."
   ]
  },
  {
   "cell_type": "code",
   "execution_count": 13,
   "metadata": {},
   "outputs": [
    {
     "data": {
      "image/png": "[encoded data removed]",
      "text/plain": [
       "<Figure size 432x576 with 1 Axes>"
      ]
     },
     "metadata": {
      "needs_background": "light"
     },
     "output_type": "display_data"
    }
   ],
   "source": [
    "# Feature selection using SelectKBest\n",
    "# Fit a model using training data using F-value method \n",
    "skb = SelectKBest(f_regression,k=25).fit(X_poly2, y)\n",
    "skb_df = pd.DataFrame({\"Feature/Column\": [\"NewFeat{}\".format(i) for i in range(1,X_poly2.shape[1]+1)],\"Scores\":skb.scores_})\n",
    "\n",
    "skb_df.sort_values(\"Scores\",ascending=True)[:25].set_index(\"Feature/Column\").plot(kind=\"barh\",figsize=(6,8))\n",
    "plt.title(\"F-value based Feature Selection scores\")\n",
    "plt.show()"
   ]
  },
  {
   "cell_type": "code",
   "execution_count": 14,
   "metadata": {
    "scrolled": true
   },
   "outputs": [
    {
     "name": "stdout",
     "output_type": "stream",
     "text": [
      "The 3-fold CV R^2 scores are [0.99246364 0.99263726 0.99232398] \n",
      "with a mean R^2 score of 0.9925\n",
      "The 3-fold CV RMSE scores are [22.69017155759727, 22.43630930491654, 22.666060448580822] \n",
      "with a mean RMSE of 22.5975\n"
     ]
    }
   ],
   "source": [
    "X_poly2_25 = skb.transform(X_poly2)\n",
    "r2_cross_val = cross_val_score(LinearRegression(),X_poly2_25,y,cv=3,scoring=\"r2\")\n",
    "print(\"The 3-fold CV R^2 scores are {} \\nwith a mean R^2 score of {:.4f}\".format(r2_cross_val,np.mean(r2_cross_val)))\n",
    "rmse_cross_val = cross_val_score(LinearRegression(),X_poly2_25,y,cv=3,scoring=\"neg_root_mean_squared_error\")\n",
    "print(\"The 3-fold CV RMSE scores are {} \\nwith a mean RMSE of {:.4f}\".format([-i for i in rmse_cross_val],-np.mean(rmse_cross_val)))"
   ]
  },
  {
   "cell_type": "markdown",
   "metadata": {},
   "source": [
    "This is a near perfect model with R^2 score close to 1 and RMSE has almost halved when compared to the model with all 2nd degree polynomial features. Let's visualize the results by comparing QQ-plots and residuals.\n",
    "\n",
    "**QQ-plot** is formed when quantiles of two variables are plotted against each other. Ideally, all points should lie on or close to the straight line at an angle of 45&deg;."
   ]
  },
  {
   "cell_type": "code",
   "execution_count": 15,
   "metadata": {},
   "outputs": [
    {
     "data": {
      "image/png": "[encoded data removed]",
      "text/plain": [
       "<Figure size 432x288 with 1 Axes>"
      ]
     },
     "metadata": {
      "needs_background": "light"
     },
     "output_type": "display_data"
    }
   ],
   "source": [
    "## Normal QQ-plot\n",
    "qqplot_2samples(y_test,y_pred,line='45')\n",
    "plt.title(\"QQ-plot of multiple linear regression\")\n",
    "plt.xlabel(\"Quantiles of observed values\")\n",
    "plt.ylabel(\"Quantiles of predicted values\")\n",
    "plt.show()"
   ]
  },
  {
   "cell_type": "code",
   "execution_count": 16,
   "metadata": {
    "scrolled": true
   },
   "outputs": [
    {
     "data": {
      "image/png": "[encoded data removed]",
      "text/plain": [
       "<Figure size 432x288 with 1 Axes>"
      ]
     },
     "metadata": {
      "needs_background": "light"
     },
     "output_type": "display_data"
    }
   ],
   "source": [
    "# Splitting the new top 25 features of 2nd degree polynomial data\n",
    "X_train_poly, X_test_poly, y_train, y_test = train_test_split(X_poly2_25, y,\n",
    "                                                    test_size=0.3,\n",
    "                                                    random_state=100,\n",
    "                                                    shuffle=True)\n",
    "# Training a linear model\n",
    "poly_model = LinearRegression()\n",
    "poly_model.fit(X_train_poly,y_train)\n",
    "poly_pred = poly_model.predict(X_test_poly) # Taking predictions\n",
    "\n",
    "## Normal QQ-plot\n",
    "qqplot_2samples(y_test,poly_pred,line='45')\n",
    "plt.title(\"QQ-plot of polynomial regression\")\n",
    "plt.xlabel(\"Quantiles of observed values\")\n",
    "plt.ylabel(\"Quantiles of predicted values\")\n",
    "plt.show()"
   ]
  },
  {
   "cell_type": "code",
   "execution_count": 17,
   "metadata": {},
   "outputs": [
    {
     "data": {
      "image/png": "[encoded data removed]",
      "text/plain": [
       "<Figure size 1080x288 with 1 Axes>"
      ]
     },
     "metadata": {
      "needs_background": "light"
     },
     "output_type": "display_data"
    }
   ],
   "source": [
    "# Residuals plot\n",
    "plt.figure(figsize=(15,4))\n",
    "plt.scatter(y_pred,y_test-y_pred,color=\"red\", label=\"Multiple Linear Regression\")\n",
    "plt.scatter(poly_pred,y_test-poly_pred,color=\"blue\", label=\"2nd Degree Polynomial Regression\")\n",
    "plt.title(\"Residuals plot\")\n",
    "plt.legend()\n",
    "plt.xlabel(\"Predicted value\")\n",
    "plt.ylabel(\"Residuals\")\n",
    "plt.show()"
   ]
  },
  {
   "cell_type": "markdown",
   "metadata": {},
   "source": [
    "The QQ-plot for polynomial regression is near perfect while the QQ-plot for multiple linear regression has very few points lying on the 45&deg; line. The residuals plot of polynomial regression has all positive values and the residuals are much closer to zero as compared to the residuals plot of multiple linear regression."
   ]
  },
  {
   "cell_type": "markdown",
   "metadata": {},
   "source": [
    "**Conclusion:** We have seen the effect of polynomial features on final results. We can increase the degree of polynomial features for more features though we already have a near perfect model."
   ]
  }
 ],
 "metadata": {
  "kernelspec": {
   "display_name": "Python 3",
   "language": "python",
   "name": "python3"
  },
  "language_info": {
   "codemirror_mode": {
    "name": "ipython",
    "version": 3
   },
   "file_extension": ".py",
   "mimetype": "text/x-python",
   "name": "python",
   "nbconvert_exporter": "python",
   "pygments_lexer": "ipython3",
   "version": "3.7.6"
  }
 },
 "nbformat": 4,
 "nbformat_minor": 4
}

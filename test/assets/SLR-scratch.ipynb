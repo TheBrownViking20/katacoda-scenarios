{
 "cells": [
  {
   "cell_type": "markdown",
   "metadata": {},
   "source": [
    "# Linear Regression with Python\n",
    "\n",
    "## Linear Regression from scratch using NumPy\n",
    "\n",
    "### What is linear regression?\n",
    "Linear Regression attempts to find a relationship between a dependent variable and one or more explantory (or independent) variables. In case of simple linear regression where there is only one explanatory variable, linear regression is described as a general equation as shown below.\n",
    "\n",
    "\\begin{align}\n",
    "y = b_0 + b_1x + \\epsilon\n",
    "\\end{align}\n",
    "\n",
    "where y is the dependent variable, x is the explanatory variable with coefficient b<sub>1</sub>, and b<sub>0</sub> is the intercept with the error term $\\epsilon$.\n",
    "\n",
    "For multiple linear regression, we have two or more explanatory variables so the equation. It is described as a general equation as shown below. \n",
    "\n",
    "\\begin{align}\n",
    "y = b_0 + b_1x_1 + ... + b_px_p + \\epsilon \n",
    "\\end{align}\n",
    "\n",
    "where y is the dependent variable, x<sub>1</sub>...x<sub>p</sub> are the explanatory variables with regression coefficients b<sub>1</sub>...b<sub>p</sub>, and b<sub>0</sub> is the intercept with the error term $\\epsilon$."
   ]
  },
  {
   "cell_type": "code",
   "execution_count": 1,
   "metadata": {},
   "outputs": [],
   "source": [
    "# Import Libraries\n",
    "import numpy as np\n",
    "import pandas as pd\n",
    "import matplotlib.pyplot as plt\n",
    "import seaborn as sns\n",
    "from scipy.stats import probplot\n",
    "from sklearn.model_selection import train_test_split\n",
    "from sklearn.linear_model import LinearRegression\n",
    "from sklearn.metrics import r2_score, mean_squared_error"
   ]
  },
  {
   "cell_type": "markdown",
   "metadata": {},
   "source": [
    "### About the dataset\n",
    "This is a simulated dataset made for teaching regression containing 10 independent variables named **Feat01, Feat02..., Feat10** and a dependent variable called **Target**. \n",
    "\n",
    "### The task\n",
    "The task at hand is to predict the **Target** variable such that the values of predictions are as close to the actual values as possible. This will be done using a baseline linear regression model made from scratch using numpy."
   ]
  },
  {
   "cell_type": "code",
   "execution_count": 2,
   "metadata": {},
   "outputs": [
    {
     "data": {
      "text/html": [
       "<div>\n",
       "<style scoped>\n",
       "    .dataframe tbody tr th:only-of-type {\n",
       "        vertical-align: middle;\n",
       "    }\n",
       "\n",
       "    .dataframe tbody tr th {\n",
       "        vertical-align: top;\n",
       "    }\n",
       "\n",
       "    .dataframe thead th {\n",
       "        text-align: right;\n",
       "    }\n",
       "</style>\n",
       "<table border=\"1\" class=\"dataframe\">\n",
       "  <thead>\n",
       "    <tr style=\"text-align: right;\">\n",
       "      <th></th>\n",
       "      <th>Feat01</th>\n",
       "      <th>Feat02</th>\n",
       "      <th>Feat03</th>\n",
       "      <th>Feat04</th>\n",
       "      <th>Feat05</th>\n",
       "      <th>Feat06</th>\n",
       "      <th>Feat07</th>\n",
       "      <th>Feat08</th>\n",
       "      <th>Feat09</th>\n",
       "      <th>Feat10</th>\n",
       "      <th>Target</th>\n",
       "    </tr>\n",
       "  </thead>\n",
       "  <tbody>\n",
       "    <tr>\n",
       "      <th>0</th>\n",
       "      <td>0</td>\n",
       "      <td>11617.463</td>\n",
       "      <td>135.935905</td>\n",
       "      <td>10960</td>\n",
       "      <td>491.597396</td>\n",
       "      <td>80.714963</td>\n",
       "      <td>0.675678</td>\n",
       "      <td>16.891946</td>\n",
       "      <td>0.506758</td>\n",
       "      <td>1.198996</td>\n",
       "      <td>137</td>\n",
       "    </tr>\n",
       "    <tr>\n",
       "      <th>1</th>\n",
       "      <td>0</td>\n",
       "      <td>1086607.005</td>\n",
       "      <td>1983.900611</td>\n",
       "      <td>13065</td>\n",
       "      <td>1391.028397</td>\n",
       "      <td>64.221576</td>\n",
       "      <td>0.880523</td>\n",
       "      <td>0.146754</td>\n",
       "      <td>0.146754</td>\n",
       "      <td>1.230974</td>\n",
       "      <td>335</td>\n",
       "    </tr>\n",
       "    <tr>\n",
       "      <th>2</th>\n",
       "      <td>0</td>\n",
       "      <td>37945.952</td>\n",
       "      <td>2726.252884</td>\n",
       "      <td>8772</td>\n",
       "      <td>222.952910</td>\n",
       "      <td>37.589307</td>\n",
       "      <td>0.325336</td>\n",
       "      <td>16.266790</td>\n",
       "      <td>0.488004</td>\n",
       "      <td>1.208015</td>\n",
       "      <td>172</td>\n",
       "    </tr>\n",
       "    <tr>\n",
       "      <th>3</th>\n",
       "      <td>0</td>\n",
       "      <td>79471.821</td>\n",
       "      <td>3448.065646</td>\n",
       "      <td>36414</td>\n",
       "      <td>883.345912</td>\n",
       "      <td>662.170505</td>\n",
       "      <td>0.257565</td>\n",
       "      <td>0.000000</td>\n",
       "      <td>0.128782</td>\n",
       "      <td>1.256901</td>\n",
       "      <td>867</td>\n",
       "    </tr>\n",
       "    <tr>\n",
       "      <th>4</th>\n",
       "      <td>1</td>\n",
       "      <td>5486.580</td>\n",
       "      <td>1509.753541</td>\n",
       "      <td>13040</td>\n",
       "      <td>742.253326</td>\n",
       "      <td>99.315014</td>\n",
       "      <td>0.129816</td>\n",
       "      <td>0.000000</td>\n",
       "      <td>0.129816</td>\n",
       "      <td>1.255410</td>\n",
       "      <td>815</td>\n",
       "    </tr>\n",
       "  </tbody>\n",
       "</table>\n",
       "</div>"
      ],
      "text/plain": [
       "   Feat01       Feat02       Feat03  Feat04       Feat05      Feat06  \\\n",
       "0       0    11617.463   135.935905   10960   491.597396   80.714963   \n",
       "1       0  1086607.005  1983.900611   13065  1391.028397   64.221576   \n",
       "2       0    37945.952  2726.252884    8772   222.952910   37.589307   \n",
       "3       0    79471.821  3448.065646   36414   883.345912  662.170505   \n",
       "4       1     5486.580  1509.753541   13040   742.253326   99.315014   \n",
       "\n",
       "     Feat07     Feat08    Feat09    Feat10  Target  \n",
       "0  0.675678  16.891946  0.506758  1.198996     137  \n",
       "1  0.880523   0.146754  0.146754  1.230974     335  \n",
       "2  0.325336  16.266790  0.488004  1.208015     172  \n",
       "3  0.257565   0.000000  0.128782  1.256901     867  \n",
       "4  0.129816   0.000000  0.129816  1.255410     815  "
      ]
     },
     "execution_count": 2,
     "metadata": {},
     "output_type": "execute_result"
    }
   ],
   "source": [
    "# Loading data\n",
    "data = pd.read_csv(\"data.csv\")\n",
    "data.head()"
   ]
  },
  {
   "cell_type": "code",
   "execution_count": 3,
   "metadata": {},
   "outputs": [],
   "source": [
    "X = data.drop([\"Target\"],axis=1) # Explanatory(independent) variables\n",
    "y = data[\"Target\"] # Dependent variable"
   ]
  },
  {
   "cell_type": "markdown",
   "metadata": {},
   "source": [
    "### Train/test split\n",
    "Data is divided into training and test set. Training set is used to train the linear model and test set is used evaluate the trained model. Here, we are using 70% data in the training set, leaving 30% data for the test set. The train-test set ratio is determined keeping in mind the size of data. Larger test sets (around 20-30% data) provide more reliable evaluation results but at the same time training set should be enough so that underfitting does not occur.  "
   ]
  },
  {
   "cell_type": "code",
   "execution_count": 4,
   "metadata": {},
   "outputs": [],
   "source": [
    "# A 70/30 train/test split\n",
    "X_train, X_test, y_train, y_test = train_test_split(X, y,\n",
    "                                                    test_size=0.3,\n",
    "                                                    random_state=100,\n",
    "                                                    shuffle=True)"
   ]
  },
  {
   "cell_type": "markdown",
   "metadata": {},
   "source": [
    "First, we will train a simple linear regression model using scikit-learn using one variable and then do the same from scratch and compare results. Now, there are many methods available for performing linear regression from scratch using only the numerical computing library, Numpy. A simpler method among these focuses on estimating the intercept and model coefficients. This method is intuitive for beginners. For a simple linear regression model, we need to find out the values of b<sub>0</sub> and b<sub>1</sub>.\n",
    "\n",
    "b<sub>1</sub> can be defined as:\n",
    "\n",
    "\\begin{align}\n",
    "b_1 = \\frac{\\sum_{i=1}^n (x - \\bar{x}) (y - \\bar{y})}{\\sum_{i=1}^n (x - \\bar{x})^2}\n",
    "\\end{align}\n",
    "\n",
    "b<sub>0</sub> can be defined as:\n",
    "\n",
    "\\begin{align}\n",
    "b_0 = y - b_1x\n",
    "\\end{align}\n",
    "\n",
    "We just have to recreate these formulae in numpy and take predictions.\n",
    "\n",
    "For this demonstration, we have chosen a feature at random: Feat06\n",
    "\n",
    "### Simple Linear Regression using Scikit-learn"
   ]
  },
  {
   "cell_type": "code",
   "execution_count": 5,
   "metadata": {
    "scrolled": false
   },
   "outputs": [
    {
     "name": "stdout",
     "output_type": "stream",
     "text": [
      "b1 = 0.7091502147233009 b0 = 355.4999157545228\n",
      "The R-squared score is 0.3708\n",
      "The Root Mean Squared error is 205.5285\n"
     ]
    },
    {
     "data": {
      "image/png": "[encoded data removed]",
      "text/plain": [
       "<Figure size 1080x288 with 1 Axes>"
      ]
     },
     "metadata": {
      "needs_background": "light"
     },
     "output_type": "display_data"
    }
   ],
   "source": [
    "simple_lr = LinearRegression() \n",
    "simple_lr.fit(X_train[[\"Feat06\"]],y_train) # Training a model simple_lr using only one feature\n",
    "simple_lr_preds = simple_lr.predict(X_test[[\"Feat06\"]]) # Taking predictions for the test set\n",
    "\n",
    "print(\"b1 =\",simple_lr.coef_[0],\"b0 =\",simple_lr.intercept_)\n",
    "# R-squared score\n",
    "print(\"The R-squared score is {:.4f}\".format(r2_score(y_test,simple_lr_preds)))\n",
    "# RMSE\n",
    "print(\"The Root Mean Squared error is {:.4f}\".format(np.sqrt(mean_squared_error(y_test,simple_lr_preds))))\n",
    "\n",
    "plt.figure(figsize=(15,4))\n",
    "plt.scatter(X_test[[\"Feat06\"]].values,y_test,color=\"red\",s=12)\n",
    "plt.plot(X_test[[\"Feat06\"]].values,simple_lr_preds,color=\"green\")\n",
    "plt.show()"
   ]
  },
  {
   "cell_type": "markdown",
   "metadata": {},
   "source": [
    "A near perfect fit for the scatter plot. Let's if we can replicate this using scatter plot.\n",
    "\n",
    "### Simple Linear Regression from scratch"
   ]
  },
  {
   "cell_type": "code",
   "execution_count": 6,
   "metadata": {},
   "outputs": [
    {
     "name": "stdout",
     "output_type": "stream",
     "text": [
      "b1 = 0.7091502147233003 b0 = 355.49991575452293\n",
      "The R-squared score is 0.3708\n",
      "The Root Mean Squared error is 205.5285\n"
     ]
    },
    {
     "data": {
      "image/png": "[encoded data removed]",
      "text/plain": [
       "<Figure size 1080x288 with 1 Axes>"
      ]
     },
     "metadata": {
      "needs_background": "light"
     },
     "output_type": "display_data"
    }
   ],
   "source": [
    "# computing b1\n",
    "X_train_scratch = X_train[[\"Feat06\"]].values.flatten() # Preparing training set\n",
    "X_test_scratch = X_test[[\"Feat06\"]].values.flatten() # Preparing test set\n",
    "\n",
    "numerator_b1 = np.sum((X_train_scratch - np.mean(X_train_scratch))*(y_train - np.mean(y_train)))\n",
    "denominator_b1 = np.sum((X_train_scratch - np.mean(X_train_scratch))**2)\n",
    "\n",
    "b1 = numerator_b1 / denominator_b1 # calculating b1\n",
    "\n",
    "b0 = np.mean(y_train) - b1*np.mean(X_train_scratch) # calculating b0\n",
    "\n",
    "simple_lr_scratch_preds = b0 + b1*X_test_scratch # taking predictions\n",
    "\n",
    "print(\"b1 =\",b1,\"b0 =\",b0)\n",
    "# R-squared score\n",
    "print(\"The R-squared score is {:.4f}\".format(r2_score(y_test,simple_lr_scratch_preds)))\n",
    "# RMSE\n",
    "print(\"The Root Mean Squared error is {:.4f}\".format(np.sqrt(mean_squared_error(y_test,simple_lr_scratch_preds))))\n",
    "\n",
    "plt.figure(figsize=(15,4))\n",
    "plt.scatter(X_test_scratch,y_test,color=\"red\",s=12)\n",
    "plt.plot(X_test_scratch,simple_lr_scratch_preds,color=\"green\")\n",
    "plt.show()"
   ]
  },
  {
   "cell_type": "markdown",
   "metadata": {},
   "source": [
    "We have almost identical results for both cases. But this works only for a single independent variable but what about the cases where we have more than one independent variables. Here, we can use normal use normal equation method."
   ]
  },
  {
   "cell_type": "markdown",
   "metadata": {},
   "source": [
    "### Normal equation method \n",
    "Given a hypothesis function:\n",
    "\n",
    "\\begin{align}\n",
    "h_\\theta(x) = \\theta_0x_0 + \\theta_1x_1 + ... + \\theta_nx_n\n",
    "\\end{align}\n",
    "\n",
    "We have to minimize the cost function:\n",
    "\n",
    "\\begin{align}\n",
    "J(\\theta_{0...n}) = \\frac{1}{2m}\\sum_{i=1}^m(h_\\theta(x^{(i)}) - y^{(i)})^2\n",
    "\\end{align}\n",
    "\n",
    "Where x<sup>(i)</sup> is the i<sup>th</sup> sample (from a set of m samples) and y<sup>(i)</sup> is the i<sup>th</sup> expected result.\n",
    "\n",
    "After differentiating this equation, we get the following:\n",
    "\n",
    "\\begin{align}\n",
    "\\theta = (X^TX)^{-1}X^Ty\n",
    "\\end{align}\n",
    "\n",
    "where X is the feature matrix and y is the target variable vector.\n",
    "\n",
    "You can check the full derivation here: [Source](https://eli.thegreenplace.net/2014/derivation-of-the-normal-equation-for-linear-regression)\n",
    "\n",
    "We can use this equation to get the best hypothesis parameters i.e., the intercept and beta coefficients."
   ]
  },
  {
   "cell_type": "markdown",
   "metadata": {},
   "source": [
    "### Multiple Linear Regression using Scikit-learn"
   ]
  },
  {
   "cell_type": "code",
   "execution_count": 7,
   "metadata": {
    "scrolled": true
   },
   "outputs": [
    {
     "name": "stdout",
     "output_type": "stream",
     "text": [
      "The R-squared score is 0.8978\n",
      "The Root Mean Squared error is 82.8497\n",
      "Intercept = -13397.877366112254\n"
     ]
    },
    {
     "data": {
      "text/html": [
       "<div>\n",
       "<style scoped>\n",
       "    .dataframe tbody tr th:only-of-type {\n",
       "        vertical-align: middle;\n",
       "    }\n",
       "\n",
       "    .dataframe tbody tr th {\n",
       "        vertical-align: top;\n",
       "    }\n",
       "\n",
       "    .dataframe thead th {\n",
       "        text-align: right;\n",
       "    }\n",
       "</style>\n",
       "<table border=\"1\" class=\"dataframe\">\n",
       "  <thead>\n",
       "    <tr style=\"text-align: right;\">\n",
       "      <th></th>\n",
       "      <th>Feature/Column</th>\n",
       "      <th>Coefficient</th>\n",
       "    </tr>\n",
       "  </thead>\n",
       "  <tbody>\n",
       "    <tr>\n",
       "      <th>0</th>\n",
       "      <td>Feat01</td>\n",
       "      <td>2.319425</td>\n",
       "    </tr>\n",
       "    <tr>\n",
       "      <th>1</th>\n",
       "      <td>Feat02</td>\n",
       "      <td>0.000010</td>\n",
       "    </tr>\n",
       "    <tr>\n",
       "      <th>2</th>\n",
       "      <td>Feat03</td>\n",
       "      <td>0.006078</td>\n",
       "    </tr>\n",
       "    <tr>\n",
       "      <th>3</th>\n",
       "      <td>Feat04</td>\n",
       "      <td>0.001139</td>\n",
       "    </tr>\n",
       "    <tr>\n",
       "      <th>4</th>\n",
       "      <td>Feat05</td>\n",
       "      <td>0.013329</td>\n",
       "    </tr>\n",
       "    <tr>\n",
       "      <th>5</th>\n",
       "      <td>Feat06</td>\n",
       "      <td>0.111174</td>\n",
       "    </tr>\n",
       "    <tr>\n",
       "      <th>6</th>\n",
       "      <td>Feat07</td>\n",
       "      <td>0.511887</td>\n",
       "    </tr>\n",
       "    <tr>\n",
       "      <th>7</th>\n",
       "      <td>Feat08</td>\n",
       "      <td>-0.123155</td>\n",
       "    </tr>\n",
       "    <tr>\n",
       "      <th>8</th>\n",
       "      <td>Feat09</td>\n",
       "      <td>-16.116907</td>\n",
       "    </tr>\n",
       "    <tr>\n",
       "      <th>9</th>\n",
       "      <td>Feat10</td>\n",
       "      <td>11177.060571</td>\n",
       "    </tr>\n",
       "  </tbody>\n",
       "</table>\n",
       "</div>"
      ],
      "text/plain": [
       "  Feature/Column   Coefficient\n",
       "0         Feat01      2.319425\n",
       "1         Feat02      0.000010\n",
       "2         Feat03      0.006078\n",
       "3         Feat04      0.001139\n",
       "4         Feat05      0.013329\n",
       "5         Feat06      0.111174\n",
       "6         Feat07      0.511887\n",
       "7         Feat08     -0.123155\n",
       "8         Feat09    -16.116907\n",
       "9         Feat10  11177.060571"
      ]
     },
     "execution_count": 7,
     "metadata": {},
     "output_type": "execute_result"
    }
   ],
   "source": [
    "multiple_lr = LinearRegression() \n",
    "multiple_lr.fit(X_train,y_train) # Training a model multiple_lr using all features\n",
    "multiple_lr_preds = multiple_lr.predict(X_test) # Taking predictions for the test set\n",
    "\n",
    "# R-squared score\n",
    "print(\"The R-squared score is {:.4f}\".format(r2_score(y_test,multiple_lr_preds)))\n",
    "# RMSE\n",
    "print(\"The Root Mean Squared error is {:.4f}\".format(np.sqrt(mean_squared_error(y_test,multiple_lr_preds))))\n",
    "print(\"Intercept =\",multiple_lr.intercept_)\n",
    "model_coefs = pd.DataFrame({'Feature/Column': list(X_train.columns), 'Coefficient': multiple_lr.coef_})\n",
    "model_coefs"
   ]
  },
  {
   "cell_type": "markdown",
   "metadata": {},
   "source": [
    "### Multiple Linear Regression from scratch"
   ]
  },
  {
   "cell_type": "code",
   "execution_count": 8,
   "metadata": {},
   "outputs": [],
   "source": [
    "X_scratch = X_train.copy() # Making a copy of training set so that the original training set doesn't alter"
   ]
  },
  {
   "cell_type": "code",
   "execution_count": 9,
   "metadata": {},
   "outputs": [
    {
     "data": {
      "text/plain": [
       "(7000, 10)"
      ]
     },
     "execution_count": 9,
     "metadata": {},
     "output_type": "execute_result"
    }
   ],
   "source": [
    "# Checking and reshaping to ensure a 2D training set\n",
    "if len(X_scratch.shape) == 1:\n",
    "    X_scratch = X_scratch.reshape(-1,1)\n",
    "X_scratch.shape"
   ]
  },
  {
   "cell_type": "markdown",
   "metadata": {},
   "source": [
    "The normal equation is created such that each coefficient in the model has an input of some kind to be multiplied against. A column of ones is therefore is added to calculate the intercept term."
   ]
  },
  {
   "cell_type": "code",
   "execution_count": 10,
   "metadata": {},
   "outputs": [],
   "source": [
    "# Adding column of ones\n",
    "ones = np.ones(X_scratch.shape[0]).reshape(-1,1)\n",
    "X_scratch = np.concatenate((ones,X_scratch),1)"
   ]
  },
  {
   "cell_type": "markdown",
   "metadata": {},
   "source": [
    "We will create the equation sequentially with code.\n",
    "\n",
    "\\begin{align}\n",
    "X^TX\n",
    "\\end{align}"
   ]
  },
  {
   "cell_type": "code",
   "execution_count": 11,
   "metadata": {},
   "outputs": [
    {
     "name": "stdout",
     "output_type": "stream",
     "text": [
      "Shape of the matrix: (11, 11)\n"
     ]
    },
    {
     "data": {
      "image/png": "[encoded data removed]",
      "text/plain": [
       "<Figure size 432x288 with 2 Axes>"
      ]
     },
     "metadata": {
      "needs_background": "light"
     },
     "output_type": "display_data"
    }
   ],
   "source": [
    "coefs = np.linalg.inv(X_scratch.transpose().dot(X_scratch)).dot(X_scratch.transpose()).dot(y_train)\n",
    "coefs = X_scratch.transpose().dot(X_scratch) # dot product of training features' matrix and its transpose\n",
    "print(\"Shape of the matrix:\",coefs.shape) # 10 features + intercept\n",
    "sns.heatmap(coefs) # A visualization of the matrix in the form of a heatmap\n",
    "plt.show()"
   ]
  },
  {
   "cell_type": "markdown",
   "metadata": {},
   "source": [
    "\\begin{align}\n",
    "(X^TX)^{-1}\n",
    "\\end{align}"
   ]
  },
  {
   "cell_type": "code",
   "execution_count": 12,
   "metadata": {},
   "outputs": [
    {
     "name": "stdout",
     "output_type": "stream",
     "text": [
      "Shape of the matrix: (11, 11)\n"
     ]
    },
    {
     "data": {
      "image/png": "[encoded data removed]",
      "text/plain": [
       "<Figure size 432x288 with 2 Axes>"
      ]
     },
     "metadata": {
      "needs_background": "light"
     },
     "output_type": "display_data"
    }
   ],
   "source": [
    "coefs = np.linalg.inv(X_scratch.transpose().dot(X_scratch))\n",
    "print(\"Shape of the matrix:\",coefs.shape)\n",
    "sns.heatmap(coefs) # See the effect of inversion\n",
    "plt.show()"
   ]
  },
  {
   "cell_type": "markdown",
   "metadata": {},
   "source": [
    "\\begin{align}\n",
    "(X^TX)^{-1}X^T\n",
    "\\end{align}"
   ]
  },
  {
   "cell_type": "code",
   "execution_count": 13,
   "metadata": {},
   "outputs": [
    {
     "name": "stdout",
     "output_type": "stream",
     "text": [
      "Shape of the matrix: (11, 7000)\n"
     ]
    },
    {
     "data": {
      "image/png": "[encoded data removed]",
      "text/plain": [
       "<Figure size 432x288 with 2 Axes>"
      ]
     },
     "metadata": {
      "needs_background": "light"
     },
     "output_type": "display_data"
    }
   ],
   "source": [
    "coefs = np.linalg.inv(X_scratch.transpose().dot(X_scratch)).dot(X_scratch.transpose())\n",
    "print(\"Shape of the matrix:\",coefs.shape)\n",
    "sns.heatmap(coefs)\n",
    "plt.show()"
   ]
  },
  {
   "cell_type": "markdown",
   "metadata": {},
   "source": [
    "\\begin{align}\n",
    "(X^TX)^{-1}X^Ty\n",
    "\\end{align}"
   ]
  },
  {
   "cell_type": "code",
   "execution_count": 14,
   "metadata": {},
   "outputs": [
    {
     "name": "stdout",
     "output_type": "stream",
     "text": [
      "Shape of the matrix: (11,)\n"
     ]
    },
    {
     "data": {
      "image/png": "[encoded data removed]",
      "text/plain": [
       "<Figure size 432x288 with 2 Axes>"
      ]
     },
     "metadata": {
      "needs_background": "light"
     },
     "output_type": "display_data"
    }
   ],
   "source": [
    "coefs = np.linalg.inv(X_scratch.transpose().dot(X_scratch)).dot(X_scratch.transpose()).dot(y_train)\n",
    "print(\"Shape of the matrix:\",coefs.shape)\n",
    "sns.heatmap(coefs.reshape(-1,1),annot=True) # Final coefficients\n",
    "plt.show()"
   ]
  },
  {
   "cell_type": "code",
   "execution_count": 15,
   "metadata": {},
   "outputs": [],
   "source": [
    "intercept = coefs[0]\n",
    "betas = coefs[1:]"
   ]
  },
  {
   "cell_type": "code",
   "execution_count": 16,
   "metadata": {},
   "outputs": [],
   "source": [
    "multiple_lr_scratch_preds = []\n",
    "for i in range(len(X_test)):\n",
    "    dot_product = X_test.iloc[i,:].values.dot(np.array(betas))\n",
    "    prediction = intercept + dot_product\n",
    "    multiple_lr_scratch_preds.append(prediction)\n",
    "multiple_lr_scratch_preds = np.array(multiple_lr_scratch_preds)"
   ]
  },
  {
   "cell_type": "code",
   "execution_count": 17,
   "metadata": {
    "scrolled": true
   },
   "outputs": [
    {
     "name": "stdout",
     "output_type": "stream",
     "text": [
      "Evaluation of normal equation based model\n",
      "The R-squared score is 0.8978\n",
      "The Root Mean Squared error is 82.8497\n",
      "Intercept = -13397.8773660329\n"
     ]
    },
    {
     "data": {
      "text/html": [
       "<div>\n",
       "<style scoped>\n",
       "    .dataframe tbody tr th:only-of-type {\n",
       "        vertical-align: middle;\n",
       "    }\n",
       "\n",
       "    .dataframe tbody tr th {\n",
       "        vertical-align: top;\n",
       "    }\n",
       "\n",
       "    .dataframe thead th {\n",
       "        text-align: right;\n",
       "    }\n",
       "</style>\n",
       "<table border=\"1\" class=\"dataframe\">\n",
       "  <thead>\n",
       "    <tr style=\"text-align: right;\">\n",
       "      <th></th>\n",
       "      <th>Feature/Column</th>\n",
       "      <th>Coefficient</th>\n",
       "    </tr>\n",
       "  </thead>\n",
       "  <tbody>\n",
       "    <tr>\n",
       "      <th>0</th>\n",
       "      <td>Feat01</td>\n",
       "      <td>2.319425</td>\n",
       "    </tr>\n",
       "    <tr>\n",
       "      <th>1</th>\n",
       "      <td>Feat02</td>\n",
       "      <td>0.000010</td>\n",
       "    </tr>\n",
       "    <tr>\n",
       "      <th>2</th>\n",
       "      <td>Feat03</td>\n",
       "      <td>0.006078</td>\n",
       "    </tr>\n",
       "    <tr>\n",
       "      <th>3</th>\n",
       "      <td>Feat04</td>\n",
       "      <td>0.001139</td>\n",
       "    </tr>\n",
       "    <tr>\n",
       "      <th>4</th>\n",
       "      <td>Feat05</td>\n",
       "      <td>0.013329</td>\n",
       "    </tr>\n",
       "    <tr>\n",
       "      <th>5</th>\n",
       "      <td>Feat06</td>\n",
       "      <td>0.111174</td>\n",
       "    </tr>\n",
       "    <tr>\n",
       "      <th>6</th>\n",
       "      <td>Feat07</td>\n",
       "      <td>0.511887</td>\n",
       "    </tr>\n",
       "    <tr>\n",
       "      <th>7</th>\n",
       "      <td>Feat08</td>\n",
       "      <td>-0.123155</td>\n",
       "    </tr>\n",
       "    <tr>\n",
       "      <th>8</th>\n",
       "      <td>Feat09</td>\n",
       "      <td>-16.116907</td>\n",
       "    </tr>\n",
       "    <tr>\n",
       "      <th>9</th>\n",
       "      <td>Feat10</td>\n",
       "      <td>11177.060571</td>\n",
       "    </tr>\n",
       "  </tbody>\n",
       "</table>\n",
       "</div>"
      ],
      "text/plain": [
       "  Feature/Column   Coefficient\n",
       "0         Feat01      2.319425\n",
       "1         Feat02      0.000010\n",
       "2         Feat03      0.006078\n",
       "3         Feat04      0.001139\n",
       "4         Feat05      0.013329\n",
       "5         Feat06      0.111174\n",
       "6         Feat07      0.511887\n",
       "7         Feat08     -0.123155\n",
       "8         Feat09    -16.116907\n",
       "9         Feat10  11177.060571"
      ]
     },
     "execution_count": 17,
     "metadata": {},
     "output_type": "execute_result"
    }
   ],
   "source": [
    "print(\"Evaluation of normal equation based model\")\n",
    "print(\"The R-squared score is {:.4f}\".format(r2_score(y_test,multiple_lr_scratch_preds)))\n",
    "print(\"The Root Mean Squared error is {:.4f}\".format(np.sqrt(mean_squared_error(y_test,multiple_lr_scratch_preds))))\n",
    "print(\"Intercept =\",intercept)\n",
    "model_coefs_scratch = pd.DataFrame({'Feature/Column': list(X_train.columns), 'Coefficient': betas})\n",
    "model_coefs_scratch"
   ]
  },
  {
   "cell_type": "markdown",
   "metadata": {},
   "source": [
    "The normal equation appproach built from scratch gives almost identical results to the scikit-learn model. We can calculate RMSE between the scikit-learn model and normal equation model to check difference in their predictions."
   ]
  },
  {
   "cell_type": "code",
   "execution_count": 18,
   "metadata": {},
   "outputs": [
    {
     "name": "stdout",
     "output_type": "stream",
     "text": [
      "The Root Mean Squared error is 0.0000\n"
     ]
    }
   ],
   "source": [
    "print(\"The Root Mean Squared error is {:.4f}\".format(np.sqrt(mean_squared_error(multiple_lr_preds,multiple_lr_scratch_preds))))"
   ]
  },
  {
   "cell_type": "markdown",
   "metadata": {},
   "source": [
    "**Conclusion:** As the RMSE is 0.0, we have successfully replicated the scikit-learn model using a normal equation based approach from scratch."
   ]
  }
 ],
 "metadata": {
  "kernelspec": {
   "display_name": "Python 3",
   "language": "python",
   "name": "python3"
  },
  "language_info": {
   "codemirror_mode": {
    "name": "ipython",
    "version": 3
   },
   "file_extension": ".py",
   "mimetype": "text/x-python",
   "name": "python",
   "nbconvert_exporter": "python",
   "pygments_lexer": "ipython3",
   "version": "3.7.6"
  }
 },
 "nbformat": 4,
 "nbformat_minor": 4
}
